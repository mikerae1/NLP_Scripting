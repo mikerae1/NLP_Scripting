{
 "cells": [
  {
   "cell_type": "markdown",
   "metadata": {},
   "source": [
    "# Unit 12 - Tales from the Crypto\n",
    "\n",
    "---\n"
   ]
  },
  {
   "cell_type": "markdown",
   "metadata": {},
   "source": [
    "## 1. Sentiment Analysis\n",
    "\n",
    "Use the [newsapi](https://newsapi.org/) to pull the latest news articles for Bitcoin and Ethereum and create a DataFrame of sentiment scores for each coin.\n",
    "\n",
    "Use descriptive statistics to answer the following questions:\n",
    "1. Which coin had the highest mean positive score?\n",
    "2. Which coin had the highest negative score?\n",
    "3. Which coin had the highest positive score?"
   ]
  },
  {
   "cell_type": "code",
   "execution_count": 1,
   "metadata": {},
   "outputs": [
    {
     "name": "stderr",
     "output_type": "stream",
     "text": [
      "[nltk_data] Downloading package vader_lexicon to\n",
      "[nltk_data]     C:\\Users\\miker\\AppData\\Roaming\\nltk_data...\n",
      "[nltk_data]   Package vader_lexicon is already up-to-date!\n"
     ]
    }
   ],
   "source": [
    "# Initial imports\n",
    "import os\n",
    "import pandas as pd\n",
    "from dotenv import load_dotenv\n",
    "import nltk as nltk\n",
    "nltk.download('vader_lexicon')\n",
    "from nltk.sentiment.vader import SentimentIntensityAnalyzer\n",
    "analyzer = SentimentIntensityAnalyzer()\n",
    "\n",
    "%matplotlib inline"
   ]
  },
  {
   "cell_type": "code",
   "execution_count": 2,
   "metadata": {},
   "outputs": [],
   "source": [
    "# Read your api key environment variable\n",
    "load_dotenv() #need this line to activate the dotenv command\n",
    "news_api_key = os.getenv(\"news_api\")"
   ]
  },
  {
   "cell_type": "code",
   "execution_count": 3,
   "metadata": {},
   "outputs": [],
   "source": [
    "# Create a newsapi client\n",
    "from newsapi import NewsApiClient\n",
    "newsapi = NewsApiClient(api_key=news_api_key)"
   ]
  },
  {
   "cell_type": "code",
   "execution_count": 11,
   "metadata": {},
   "outputs": [
    {
     "data": {
      "text/plain": [
       "11417"
      ]
     },
     "execution_count": 11,
     "metadata": {},
     "output_type": "execute_result"
    }
   ],
   "source": [
    "# Fetch the Bitcoin news articles\n",
    "bitcoin_articles = newsapi.get_everything(q='bitcoin', language='en', sort_by='relevancy')\n",
    "bitcoin_articles['totalResults']"
   ]
  },
  {
   "cell_type": "code",
   "execution_count": 110,
   "metadata": {},
   "outputs": [
    {
     "data": {
      "text/plain": [
       "3279"
      ]
     },
     "execution_count": 110,
     "metadata": {},
     "output_type": "execute_result"
    }
   ],
   "source": [
    "# Fetch the Ethereum news articles\n",
    "ethereum_articles = newsapi.get_everything(q='ethereum', language='en', sort_by='relevancy')\n",
    "ethereum_articles['totalResults']"
   ]
  },
  {
   "cell_type": "code",
   "execution_count": 41,
   "metadata": {},
   "outputs": [
    {
     "data": {
      "text/html": [
       "<div>\n",
       "<style scoped>\n",
       "    .dataframe tbody tr th:only-of-type {\n",
       "        vertical-align: middle;\n",
       "    }\n",
       "\n",
       "    .dataframe tbody tr th {\n",
       "        vertical-align: top;\n",
       "    }\n",
       "\n",
       "    .dataframe thead th {\n",
       "        text-align: right;\n",
       "    }\n",
       "</style>\n",
       "<table border=\"1\" class=\"dataframe\">\n",
       "  <thead>\n",
       "    <tr style=\"text-align: right;\">\n",
       "      <th></th>\n",
       "      <th>title</th>\n",
       "      <th>content</th>\n",
       "      <th>title_sentiment</th>\n",
       "      <th>content_sentiment</th>\n",
       "      <th>compound</th>\n",
       "      <th>negative</th>\n",
       "      <th>neutral</th>\n",
       "      <th>positive</th>\n",
       "    </tr>\n",
       "  </thead>\n",
       "  <tbody>\n",
       "    <tr>\n",
       "      <th>0</th>\n",
       "      <td>El Salvador becomes the first country to appro...</td>\n",
       "      <td>El Salvador's President Nayib Bukele has made ...</td>\n",
       "      <td>0.1280</td>\n",
       "      <td>0.8402</td>\n",
       "      <td>0.8402</td>\n",
       "      <td>0.000</td>\n",
       "      <td>0.718</td>\n",
       "      <td>0.282</td>\n",
       "    </tr>\n",
       "    <tr>\n",
       "      <th>1</th>\n",
       "      <td>El Salvador Becomes First Country to Recognize...</td>\n",
       "      <td>El Salvador has become the first country in th...</td>\n",
       "      <td>0.0000</td>\n",
       "      <td>0.1280</td>\n",
       "      <td>0.1280</td>\n",
       "      <td>0.000</td>\n",
       "      <td>0.957</td>\n",
       "      <td>0.043</td>\n",
       "    </tr>\n",
       "    <tr>\n",
       "      <th>2</th>\n",
       "      <td>Elon Musk says Tesla will resume Bitcoin purch...</td>\n",
       "      <td>It's all about clean energy, it seems. \\r\\nElo...</td>\n",
       "      <td>0.0000</td>\n",
       "      <td>0.6908</td>\n",
       "      <td>0.6908</td>\n",
       "      <td>0.000</td>\n",
       "      <td>0.831</td>\n",
       "      <td>0.169</td>\n",
       "    </tr>\n",
       "    <tr>\n",
       "      <th>3</th>\n",
       "      <td>Bitcoin: El Salvador makes cryptocurrency lega...</td>\n",
       "      <td>image captionThe move means bitcoin will be ac...</td>\n",
       "      <td>0.1280</td>\n",
       "      <td>0.2732</td>\n",
       "      <td>0.2732</td>\n",
       "      <td>0.000</td>\n",
       "      <td>0.940</td>\n",
       "      <td>0.060</td>\n",
       "    </tr>\n",
       "    <tr>\n",
       "      <th>4</th>\n",
       "      <td>Miami's Bitcoin Conference May Be the Latest C...</td>\n",
       "      <td>Several crypto fans that descended on Miami, F...</td>\n",
       "      <td>0.5994</td>\n",
       "      <td>0.5574</td>\n",
       "      <td>0.5574</td>\n",
       "      <td>0.000</td>\n",
       "      <td>0.893</td>\n",
       "      <td>0.107</td>\n",
       "    </tr>\n",
       "    <tr>\n",
       "      <th>5</th>\n",
       "      <td>In search of a new crypto deity</td>\n",
       "      <td>Hello friends, and welcome back to Week in Rev...</td>\n",
       "      <td>0.0000</td>\n",
       "      <td>0.7500</td>\n",
       "      <td>0.7500</td>\n",
       "      <td>0.000</td>\n",
       "      <td>0.846</td>\n",
       "      <td>0.154</td>\n",
       "    </tr>\n",
       "    <tr>\n",
       "      <th>6</th>\n",
       "      <td>PayPal Will Let Users Transfer Bitcoin to Thir...</td>\n",
       "      <td>In spite of the environmental and regulatory i...</td>\n",
       "      <td>0.0000</td>\n",
       "      <td>-0.5267</td>\n",
       "      <td>-0.5267</td>\n",
       "      <td>0.096</td>\n",
       "      <td>0.904</td>\n",
       "      <td>0.000</td>\n",
       "    </tr>\n",
       "    <tr>\n",
       "      <th>7</th>\n",
       "      <td>Donald Trump calls Bitcoin 'a scam against the...</td>\n",
       "      <td>By Mary-Ann RussonBusiness reporter, BBC News\\...</td>\n",
       "      <td>-0.5719</td>\n",
       "      <td>0.3400</td>\n",
       "      <td>0.3400</td>\n",
       "      <td>0.000</td>\n",
       "      <td>0.930</td>\n",
       "      <td>0.070</td>\n",
       "    </tr>\n",
       "    <tr>\n",
       "      <th>8</th>\n",
       "      <td>Iran bans cryptocurrency mining for four month...</td>\n",
       "      <td>The ban affects licensed and unlicensed miners...</td>\n",
       "      <td>0.0000</td>\n",
       "      <td>-0.5574</td>\n",
       "      <td>-0.5574</td>\n",
       "      <td>0.107</td>\n",
       "      <td>0.893</td>\n",
       "      <td>0.000</td>\n",
       "    </tr>\n",
       "    <tr>\n",
       "      <th>9</th>\n",
       "      <td>PayPal will soon let you exchange Bitcoin acro...</td>\n",
       "      <td>After years of hesitation, PayPal continues to...</td>\n",
       "      <td>0.0000</td>\n",
       "      <td>-0.2732</td>\n",
       "      <td>-0.2732</td>\n",
       "      <td>0.062</td>\n",
       "      <td>0.938</td>\n",
       "      <td>0.000</td>\n",
       "    </tr>\n",
       "  </tbody>\n",
       "</table>\n",
       "</div>"
      ],
      "text/plain": [
       "                                               title  \\\n",
       "0  El Salvador becomes the first country to appro...   \n",
       "1  El Salvador Becomes First Country to Recognize...   \n",
       "2  Elon Musk says Tesla will resume Bitcoin purch...   \n",
       "3  Bitcoin: El Salvador makes cryptocurrency lega...   \n",
       "4  Miami's Bitcoin Conference May Be the Latest C...   \n",
       "5                    In search of a new crypto deity   \n",
       "6  PayPal Will Let Users Transfer Bitcoin to Thir...   \n",
       "7  Donald Trump calls Bitcoin 'a scam against the...   \n",
       "8  Iran bans cryptocurrency mining for four month...   \n",
       "9  PayPal will soon let you exchange Bitcoin acro...   \n",
       "\n",
       "                                             content  title_sentiment  \\\n",
       "0  El Salvador's President Nayib Bukele has made ...           0.1280   \n",
       "1  El Salvador has become the first country in th...           0.0000   \n",
       "2  It's all about clean energy, it seems. \\r\\nElo...           0.0000   \n",
       "3  image captionThe move means bitcoin will be ac...           0.1280   \n",
       "4  Several crypto fans that descended on Miami, F...           0.5994   \n",
       "5  Hello friends, and welcome back to Week in Rev...           0.0000   \n",
       "6  In spite of the environmental and regulatory i...           0.0000   \n",
       "7  By Mary-Ann RussonBusiness reporter, BBC News\\...          -0.5719   \n",
       "8  The ban affects licensed and unlicensed miners...           0.0000   \n",
       "9  After years of hesitation, PayPal continues to...           0.0000   \n",
       "\n",
       "   content_sentiment  compound  negative  neutral  positive  \n",
       "0             0.8402    0.8402     0.000    0.718     0.282  \n",
       "1             0.1280    0.1280     0.000    0.957     0.043  \n",
       "2             0.6908    0.6908     0.000    0.831     0.169  \n",
       "3             0.2732    0.2732     0.000    0.940     0.060  \n",
       "4             0.5574    0.5574     0.000    0.893     0.107  \n",
       "5             0.7500    0.7500     0.000    0.846     0.154  \n",
       "6            -0.5267   -0.5267     0.096    0.904     0.000  \n",
       "7             0.3400    0.3400     0.000    0.930     0.070  \n",
       "8            -0.5574   -0.5574     0.107    0.893     0.000  \n",
       "9            -0.2732   -0.2732     0.062    0.938     0.000  "
      ]
     },
     "execution_count": 41,
     "metadata": {},
     "output_type": "execute_result"
    }
   ],
   "source": [
    "# Create the Bitcoin sentiment scores DataFrame\n",
    "\n",
    "# Added title into df to see difference vs content of article\n",
    "btc_df = pd.DataFrame(bitcoin_articles['articles'])[['title', 'content']]\n",
    "\n",
    "import numpy as np\n",
    "btc_df['title_sentiment'] = np.nan\n",
    "btc_df['content_sentiment'] = np.nan\n",
    "btc_df['compound'] = np.nan\n",
    "btc_df['negative'] = np.nan\n",
    "btc_df['neutral'] = np.nan\n",
    "btc_df['positive'] = np.nan\n",
    "\n",
    "for idx, row in btc_df.iterrows():\n",
    "    btc_df.loc[idx,'title_sentiment'] = analyzer.polarity_scores(row['title'])['compound']\n",
    "    btc_df.loc[idx,'content_sentiment'] = analyzer.polarity_scores(row['content'])['compound']\n",
    "    btc_df.loc[idx,'compound'] = analyzer.polarity_scores(row['content'])['compound']\n",
    "    btc_df.loc[idx,'negative'] = analyzer.polarity_scores(row['content'])['neg']\n",
    "    btc_df.loc[idx,'neutral'] = analyzer.polarity_scores(row['content'])['neu']\n",
    "    btc_df.loc[idx,'positive'] = analyzer.polarity_scores(row['content'])['pos']\n",
    "    \n",
    "btc_df.head(10)"
   ]
  },
  {
   "cell_type": "code",
   "execution_count": 42,
   "metadata": {},
   "outputs": [
    {
     "data": {
      "text/plain": [
       "{'neg': 0.075, 'neu': 0.841, 'pos': 0.084, 'compound': 0.0772}"
      ]
     },
     "execution_count": 42,
     "metadata": {},
     "output_type": "execute_result"
    }
   ],
   "source": [
    "analyzer.polarity_scores(row['content'])"
   ]
  },
  {
   "cell_type": "code",
   "execution_count": 43,
   "metadata": {},
   "outputs": [
    {
     "data": {
      "text/html": [
       "<div>\n",
       "<style scoped>\n",
       "    .dataframe tbody tr th:only-of-type {\n",
       "        vertical-align: middle;\n",
       "    }\n",
       "\n",
       "    .dataframe tbody tr th {\n",
       "        vertical-align: top;\n",
       "    }\n",
       "\n",
       "    .dataframe thead th {\n",
       "        text-align: right;\n",
       "    }\n",
       "</style>\n",
       "<table border=\"1\" class=\"dataframe\">\n",
       "  <thead>\n",
       "    <tr style=\"text-align: right;\">\n",
       "      <th></th>\n",
       "      <th>title_sentiment</th>\n",
       "      <th>content_sentiment</th>\n",
       "      <th>compound</th>\n",
       "      <th>negative</th>\n",
       "      <th>neutral</th>\n",
       "      <th>positive</th>\n",
       "    </tr>\n",
       "  </thead>\n",
       "  <tbody>\n",
       "    <tr>\n",
       "      <th>count</th>\n",
       "      <td>20.000000</td>\n",
       "      <td>20.000000</td>\n",
       "      <td>20.000000</td>\n",
       "      <td>20.000000</td>\n",
       "      <td>20.00000</td>\n",
       "      <td>20.000000</td>\n",
       "    </tr>\n",
       "    <tr>\n",
       "      <th>mean</th>\n",
       "      <td>0.023570</td>\n",
       "      <td>0.179920</td>\n",
       "      <td>0.179920</td>\n",
       "      <td>0.026900</td>\n",
       "      <td>0.89825</td>\n",
       "      <td>0.074800</td>\n",
       "    </tr>\n",
       "    <tr>\n",
       "      <th>std</th>\n",
       "      <td>0.340676</td>\n",
       "      <td>0.383615</td>\n",
       "      <td>0.383615</td>\n",
       "      <td>0.039178</td>\n",
       "      <td>0.06832</td>\n",
       "      <td>0.069831</td>\n",
       "    </tr>\n",
       "    <tr>\n",
       "      <th>min</th>\n",
       "      <td>-0.686800</td>\n",
       "      <td>-0.557400</td>\n",
       "      <td>-0.557400</td>\n",
       "      <td>0.000000</td>\n",
       "      <td>0.71800</td>\n",
       "      <td>0.000000</td>\n",
       "    </tr>\n",
       "    <tr>\n",
       "      <th>25%</th>\n",
       "      <td>0.000000</td>\n",
       "      <td>0.000000</td>\n",
       "      <td>0.000000</td>\n",
       "      <td>0.000000</td>\n",
       "      <td>0.84475</td>\n",
       "      <td>0.032250</td>\n",
       "    </tr>\n",
       "    <tr>\n",
       "      <th>50%</th>\n",
       "      <td>0.000000</td>\n",
       "      <td>0.165150</td>\n",
       "      <td>0.165150</td>\n",
       "      <td>0.000000</td>\n",
       "      <td>0.91050</td>\n",
       "      <td>0.065500</td>\n",
       "    </tr>\n",
       "    <tr>\n",
       "      <th>75%</th>\n",
       "      <td>0.128000</td>\n",
       "      <td>0.401050</td>\n",
       "      <td>0.401050</td>\n",
       "      <td>0.059000</td>\n",
       "      <td>0.94375</td>\n",
       "      <td>0.105500</td>\n",
       "    </tr>\n",
       "    <tr>\n",
       "      <th>max</th>\n",
       "      <td>0.599400</td>\n",
       "      <td>0.840200</td>\n",
       "      <td>0.840200</td>\n",
       "      <td>0.107000</td>\n",
       "      <td>1.00000</td>\n",
       "      <td>0.282000</td>\n",
       "    </tr>\n",
       "  </tbody>\n",
       "</table>\n",
       "</div>"
      ],
      "text/plain": [
       "       title_sentiment  content_sentiment   compound   negative   neutral  \\\n",
       "count        20.000000          20.000000  20.000000  20.000000  20.00000   \n",
       "mean          0.023570           0.179920   0.179920   0.026900   0.89825   \n",
       "std           0.340676           0.383615   0.383615   0.039178   0.06832   \n",
       "min          -0.686800          -0.557400  -0.557400   0.000000   0.71800   \n",
       "25%           0.000000           0.000000   0.000000   0.000000   0.84475   \n",
       "50%           0.000000           0.165150   0.165150   0.000000   0.91050   \n",
       "75%           0.128000           0.401050   0.401050   0.059000   0.94375   \n",
       "max           0.599400           0.840200   0.840200   0.107000   1.00000   \n",
       "\n",
       "        positive  \n",
       "count  20.000000  \n",
       "mean    0.074800  \n",
       "std     0.069831  \n",
       "min     0.000000  \n",
       "25%     0.032250  \n",
       "50%     0.065500  \n",
       "75%     0.105500  \n",
       "max     0.282000  "
      ]
     },
     "execution_count": 43,
     "metadata": {},
     "output_type": "execute_result"
    }
   ],
   "source": [
    "btc_df.describe()"
   ]
  },
  {
   "cell_type": "code",
   "execution_count": 56,
   "metadata": {},
   "outputs": [
    {
     "name": "stdout",
     "output_type": "stream",
     "text": [
      "The max compound score for Bitcoin is 0.8402\n",
      "The min compound score for Bitcoin is -0.5574\n",
      "The max positive score for Bitcoin is 0.282\n",
      "The min positive score for Bitcoin is 0.0\n"
     ]
    }
   ],
   "source": [
    "print(f\"The max compound score for Bitcoin is {btc_df['compound'].max()}\")\n",
    "print(f\"The min compound score for Bitcoin is {btc_df['compound'].min()}\")\n",
    "\n",
    "print(f\"The max positive score for Bitcoin is {btc_df['positive'].max()}\")\n",
    "print(f\"The min positive score for Bitcoin is {btc_df['positive'].min()}\")"
   ]
  },
  {
   "cell_type": "code",
   "execution_count": 134,
   "metadata": {},
   "outputs": [
    {
     "name": "stdout",
     "output_type": "stream",
     "text": [
      "0    El Salvador's President Nayib Bukele has made good on his promise to adopt Bitcoin as legal tender. Officials in the Central American country's congress voted to accept the cryptocurrency by a majori… [+1414 chars]\n",
      "Name: content, dtype: object\n"
     ]
    }
   ],
   "source": [
    "# Out of interest article with the highest compound score for BTC\n",
    "df = pd.DataFrame(btc_df.loc[btc_df['compound'].idxmax()]).transpose()\n",
    "pd.set_option(\"max_colwidth\", 500)\n",
    "print(df['content'])"
   ]
  },
  {
   "cell_type": "code",
   "execution_count": 138,
   "metadata": {},
   "outputs": [],
   "source": [
    "df.to_csv('btc_highest_compound_sentiment.csv', encoding='utf-8', index=False)"
   ]
  },
  {
   "cell_type": "code",
   "execution_count": 135,
   "metadata": {},
   "outputs": [],
   "source": [
    "# resetting column width as I played around with this\n",
    "pd.set_option(\"max_colwidth\", 50)"
   ]
  },
  {
   "cell_type": "code",
   "execution_count": 136,
   "metadata": {},
   "outputs": [
    {
     "data": {
      "text/html": [
       "<div>\n",
       "<style scoped>\n",
       "    .dataframe tbody tr th:only-of-type {\n",
       "        vertical-align: middle;\n",
       "    }\n",
       "\n",
       "    .dataframe tbody tr th {\n",
       "        vertical-align: top;\n",
       "    }\n",
       "\n",
       "    .dataframe thead th {\n",
       "        text-align: right;\n",
       "    }\n",
       "</style>\n",
       "<table border=\"1\" class=\"dataframe\">\n",
       "  <thead>\n",
       "    <tr style=\"text-align: right;\">\n",
       "      <th></th>\n",
       "      <th>title</th>\n",
       "      <th>content</th>\n",
       "      <th>title_sentiment</th>\n",
       "      <th>content_sentiment</th>\n",
       "      <th>compound</th>\n",
       "      <th>negative</th>\n",
       "      <th>neutral</th>\n",
       "      <th>positive</th>\n",
       "    </tr>\n",
       "  </thead>\n",
       "  <tbody>\n",
       "    <tr>\n",
       "      <th>0</th>\n",
       "      <td>This blockchain development course bundle is o...</td>\n",
       "      <td>TL;DR: The Cryptocurrency with Ethereum and So...</td>\n",
       "      <td>0.0000</td>\n",
       "      <td>0.0000</td>\n",
       "      <td>0.0000</td>\n",
       "      <td>0.000</td>\n",
       "      <td>1.000</td>\n",
       "      <td>0.000</td>\n",
       "    </tr>\n",
       "    <tr>\n",
       "      <th>1</th>\n",
       "      <td>Classic memes that have sold as NFTs</td>\n",
       "      <td>It wasn't long ago that your average person ha...</td>\n",
       "      <td>0.0000</td>\n",
       "      <td>-0.2960</td>\n",
       "      <td>-0.2960</td>\n",
       "      <td>0.061</td>\n",
       "      <td>0.939</td>\n",
       "      <td>0.000</td>\n",
       "    </tr>\n",
       "    <tr>\n",
       "      <th>2</th>\n",
       "      <td>Ethereum extends gains to rise 8%; bitcoin fir...</td>\n",
       "      <td>A representation of virtual currency Ethereum ...</td>\n",
       "      <td>0.4404</td>\n",
       "      <td>0.0000</td>\n",
       "      <td>0.0000</td>\n",
       "      <td>0.000</td>\n",
       "      <td>1.000</td>\n",
       "      <td>0.000</td>\n",
       "    </tr>\n",
       "    <tr>\n",
       "      <th>3</th>\n",
       "      <td>Ethereum creator Vitalik Buterin made more tha...</td>\n",
       "      <td>This article was translated from our Spanish e...</td>\n",
       "      <td>0.4404</td>\n",
       "      <td>-0.3400</td>\n",
       "      <td>-0.3400</td>\n",
       "      <td>0.066</td>\n",
       "      <td>0.934</td>\n",
       "      <td>0.000</td>\n",
       "    </tr>\n",
       "    <tr>\n",
       "      <th>4</th>\n",
       "      <td>Norton 360 Antivirus Now Lets You Mine Ethereu...</td>\n",
       "      <td>This new mining feature is called 'Norton Cryp...</td>\n",
       "      <td>0.0000</td>\n",
       "      <td>0.0000</td>\n",
       "      <td>0.0000</td>\n",
       "      <td>0.000</td>\n",
       "      <td>1.000</td>\n",
       "      <td>0.000</td>\n",
       "    </tr>\n",
       "    <tr>\n",
       "      <th>5</th>\n",
       "      <td>GameStop Is Building An NFT Platform On Ethereum</td>\n",
       "      <td>\"We are building a team\" the page declares, st...</td>\n",
       "      <td>0.0000</td>\n",
       "      <td>0.6705</td>\n",
       "      <td>0.6705</td>\n",
       "      <td>0.000</td>\n",
       "      <td>0.812</td>\n",
       "      <td>0.188</td>\n",
       "    </tr>\n",
       "    <tr>\n",
       "      <th>6</th>\n",
       "      <td>SafeMoon: New Dogecoin or Ponzi scheme?</td>\n",
       "      <td>Opinions expressed by Entrepreneur contributor...</td>\n",
       "      <td>0.0000</td>\n",
       "      <td>0.1280</td>\n",
       "      <td>0.1280</td>\n",
       "      <td>0.000</td>\n",
       "      <td>0.949</td>\n",
       "      <td>0.051</td>\n",
       "    </tr>\n",
       "    <tr>\n",
       "      <th>7</th>\n",
       "      <td>8 Money Toilets</td>\n",
       "      <td>CryptoPunks represent the only historically re...</td>\n",
       "      <td>0.0000</td>\n",
       "      <td>-0.4588</td>\n",
       "      <td>-0.4588</td>\n",
       "      <td>0.151</td>\n",
       "      <td>0.782</td>\n",
       "      <td>0.067</td>\n",
       "    </tr>\n",
       "    <tr>\n",
       "      <th>8</th>\n",
       "      <td>Buying a pink NFT cat was a crypto nightmare</td>\n",
       "      <td>By Cristina CriddleTechnology reporter\\r\\nimag...</td>\n",
       "      <td>0.0000</td>\n",
       "      <td>0.0000</td>\n",
       "      <td>0.0000</td>\n",
       "      <td>0.000</td>\n",
       "      <td>1.000</td>\n",
       "      <td>0.000</td>\n",
       "    </tr>\n",
       "    <tr>\n",
       "      <th>9</th>\n",
       "      <td>Two ether bulls break down 3 reasons why solan...</td>\n",
       "      <td>In March 2020, blockchain protocol solana offi...</td>\n",
       "      <td>0.5413</td>\n",
       "      <td>0.2023</td>\n",
       "      <td>0.2023</td>\n",
       "      <td>0.000</td>\n",
       "      <td>0.909</td>\n",
       "      <td>0.091</td>\n",
       "    </tr>\n",
       "  </tbody>\n",
       "</table>\n",
       "</div>"
      ],
      "text/plain": [
       "                                               title  \\\n",
       "0  This blockchain development course bundle is o...   \n",
       "1               Classic memes that have sold as NFTs   \n",
       "2  Ethereum extends gains to rise 8%; bitcoin fir...   \n",
       "3  Ethereum creator Vitalik Buterin made more tha...   \n",
       "4  Norton 360 Antivirus Now Lets You Mine Ethereu...   \n",
       "5   GameStop Is Building An NFT Platform On Ethereum   \n",
       "6            SafeMoon: New Dogecoin or Ponzi scheme?   \n",
       "7                                    8 Money Toilets   \n",
       "8       Buying a pink NFT cat was a crypto nightmare   \n",
       "9  Two ether bulls break down 3 reasons why solan...   \n",
       "\n",
       "                                             content  title_sentiment  \\\n",
       "0  TL;DR: The Cryptocurrency with Ethereum and So...           0.0000   \n",
       "1  It wasn't long ago that your average person ha...           0.0000   \n",
       "2  A representation of virtual currency Ethereum ...           0.4404   \n",
       "3  This article was translated from our Spanish e...           0.4404   \n",
       "4  This new mining feature is called 'Norton Cryp...           0.0000   \n",
       "5  \"We are building a team\" the page declares, st...           0.0000   \n",
       "6  Opinions expressed by Entrepreneur contributor...           0.0000   \n",
       "7  CryptoPunks represent the only historically re...           0.0000   \n",
       "8  By Cristina CriddleTechnology reporter\\r\\nimag...           0.0000   \n",
       "9  In March 2020, blockchain protocol solana offi...           0.5413   \n",
       "\n",
       "   content_sentiment  compound  negative  neutral  positive  \n",
       "0             0.0000    0.0000     0.000    1.000     0.000  \n",
       "1            -0.2960   -0.2960     0.061    0.939     0.000  \n",
       "2             0.0000    0.0000     0.000    1.000     0.000  \n",
       "3            -0.3400   -0.3400     0.066    0.934     0.000  \n",
       "4             0.0000    0.0000     0.000    1.000     0.000  \n",
       "5             0.6705    0.6705     0.000    0.812     0.188  \n",
       "6             0.1280    0.1280     0.000    0.949     0.051  \n",
       "7            -0.4588   -0.4588     0.151    0.782     0.067  \n",
       "8             0.0000    0.0000     0.000    1.000     0.000  \n",
       "9             0.2023    0.2023     0.000    0.909     0.091  "
      ]
     },
     "execution_count": 136,
     "metadata": {},
     "output_type": "execute_result"
    }
   ],
   "source": [
    "# Create the Ethereum sentiment scores DataFrame\n",
    "ethereum_df = pd.DataFrame(ethereum_articles['articles'])[['title', 'content']]\n",
    "\n",
    "ethereum_df['title_sentiment'] = np.nan\n",
    "ethereum_df['content_sentiment'] = np.nan\n",
    "ethereum_df['compound'] = np.nan\n",
    "ethereum_df['negative'] = np.nan\n",
    "ethereum_df['neutral'] = np.nan\n",
    "ethereum_df['positive'] = np.nan\n",
    "\n",
    "for idx, row in ethereum_df.iterrows():\n",
    "    ethereum_df.loc[idx,'title_sentiment'] = analyzer.polarity_scores(row['title'])['compound']\n",
    "    ethereum_df.loc[idx,'content_sentiment'] = analyzer.polarity_scores(row['content'])['compound']\n",
    "    ethereum_df.loc[idx,'compound'] = analyzer.polarity_scores(row['content'])['compound']\n",
    "    ethereum_df.loc[idx,'negative'] = analyzer.polarity_scores(row['content'])['neg']\n",
    "    ethereum_df.loc[idx,'neutral'] = analyzer.polarity_scores(row['content'])['neu']\n",
    "    ethereum_df.loc[idx,'positive'] = analyzer.polarity_scores(row['content'])['pos']\n",
    "    \n",
    "ethereum_df.head(10)"
   ]
  },
  {
   "cell_type": "code",
   "execution_count": 112,
   "metadata": {},
   "outputs": [
    {
     "data": {
      "text/html": [
       "<div>\n",
       "<style scoped>\n",
       "    .dataframe tbody tr th:only-of-type {\n",
       "        vertical-align: middle;\n",
       "    }\n",
       "\n",
       "    .dataframe tbody tr th {\n",
       "        vertical-align: top;\n",
       "    }\n",
       "\n",
       "    .dataframe thead th {\n",
       "        text-align: right;\n",
       "    }\n",
       "</style>\n",
       "<table border=\"1\" class=\"dataframe\">\n",
       "  <thead>\n",
       "    <tr style=\"text-align: right;\">\n",
       "      <th></th>\n",
       "      <th>title_sentiment</th>\n",
       "      <th>content_sentiment</th>\n",
       "      <th>compound</th>\n",
       "      <th>negative</th>\n",
       "      <th>neutral</th>\n",
       "      <th>positive</th>\n",
       "    </tr>\n",
       "  </thead>\n",
       "  <tbody>\n",
       "    <tr>\n",
       "      <th>count</th>\n",
       "      <td>20.000000</td>\n",
       "      <td>20.000000</td>\n",
       "      <td>20.000000</td>\n",
       "      <td>20.000000</td>\n",
       "      <td>20.000000</td>\n",
       "      <td>20.000000</td>\n",
       "    </tr>\n",
       "    <tr>\n",
       "      <th>mean</th>\n",
       "      <td>0.103040</td>\n",
       "      <td>0.110260</td>\n",
       "      <td>0.110260</td>\n",
       "      <td>0.017850</td>\n",
       "      <td>0.934050</td>\n",
       "      <td>0.048050</td>\n",
       "    </tr>\n",
       "    <tr>\n",
       "      <th>std</th>\n",
       "      <td>0.228527</td>\n",
       "      <td>0.319522</td>\n",
       "      <td>0.319522</td>\n",
       "      <td>0.040227</td>\n",
       "      <td>0.071475</td>\n",
       "      <td>0.060335</td>\n",
       "    </tr>\n",
       "    <tr>\n",
       "      <th>min</th>\n",
       "      <td>-0.401900</td>\n",
       "      <td>-0.458800</td>\n",
       "      <td>-0.458800</td>\n",
       "      <td>0.000000</td>\n",
       "      <td>0.782000</td>\n",
       "      <td>0.000000</td>\n",
       "    </tr>\n",
       "    <tr>\n",
       "      <th>25%</th>\n",
       "      <td>0.000000</td>\n",
       "      <td>0.000000</td>\n",
       "      <td>0.000000</td>\n",
       "      <td>0.000000</td>\n",
       "      <td>0.912750</td>\n",
       "      <td>0.000000</td>\n",
       "    </tr>\n",
       "    <tr>\n",
       "      <th>50%</th>\n",
       "      <td>0.000000</td>\n",
       "      <td>0.000000</td>\n",
       "      <td>0.000000</td>\n",
       "      <td>0.000000</td>\n",
       "      <td>0.937000</td>\n",
       "      <td>0.025500</td>\n",
       "    </tr>\n",
       "    <tr>\n",
       "      <th>75%</th>\n",
       "      <td>0.328950</td>\n",
       "      <td>0.361200</td>\n",
       "      <td>0.361200</td>\n",
       "      <td>0.000000</td>\n",
       "      <td>1.000000</td>\n",
       "      <td>0.073000</td>\n",
       "    </tr>\n",
       "    <tr>\n",
       "      <th>max</th>\n",
       "      <td>0.541300</td>\n",
       "      <td>0.778300</td>\n",
       "      <td>0.778300</td>\n",
       "      <td>0.151000</td>\n",
       "      <td>1.000000</td>\n",
       "      <td>0.191000</td>\n",
       "    </tr>\n",
       "  </tbody>\n",
       "</table>\n",
       "</div>"
      ],
      "text/plain": [
       "       title_sentiment  content_sentiment   compound   negative    neutral  \\\n",
       "count  20.000000        20.000000          20.000000  20.000000  20.000000   \n",
       "mean   0.103040         0.110260           0.110260   0.017850   0.934050    \n",
       "std    0.228527         0.319522           0.319522   0.040227   0.071475    \n",
       "min   -0.401900        -0.458800          -0.458800   0.000000   0.782000    \n",
       "25%    0.000000         0.000000           0.000000   0.000000   0.912750    \n",
       "50%    0.000000         0.000000           0.000000   0.000000   0.937000    \n",
       "75%    0.328950         0.361200           0.361200   0.000000   1.000000    \n",
       "max    0.541300         0.778300           0.778300   0.151000   1.000000    \n",
       "\n",
       "        positive  \n",
       "count  20.000000  \n",
       "mean   0.048050   \n",
       "std    0.060335   \n",
       "min    0.000000   \n",
       "25%    0.000000   \n",
       "50%    0.025500   \n",
       "75%    0.073000   \n",
       "max    0.191000   "
      ]
     },
     "execution_count": 112,
     "metadata": {},
     "output_type": "execute_result"
    }
   ],
   "source": [
    "ethereum_df.describe()"
   ]
  },
  {
   "cell_type": "code",
   "execution_count": 54,
   "metadata": {},
   "outputs": [
    {
     "name": "stdout",
     "output_type": "stream",
     "text": [
      "The max compound score for Ethereum is 0.7783\n",
      "The min compound score for Ethereum is -0.4588\n",
      "The max positive score for Ethereum is 0.191\n",
      "The min positive score for Ethereum is 0.0\n"
     ]
    }
   ],
   "source": [
    "print(f\"The max compound score for Ethereum is {ethereum_df['compound'].max()}\")\n",
    "print(f\"The min compound score for Ethereum is {ethereum_df['compound'].min()}\")\n",
    "\n",
    "print(f\"The max positive score for Ethereum is {ethereum_df['positive'].max()}\")\n",
    "print(f\"The min positive score for Ethereum is {ethereum_df['positive'].min()}\")"
   ]
  },
  {
   "cell_type": "code",
   "execution_count": 8,
   "metadata": {},
   "outputs": [],
   "source": [
    "# Describe the Bitcoin Sentiment\n",
    "# The Bitcoin sentiment is neutral with a slightly positive weighting, mean title sentiment at 0.023 and mean content sentiment at 0.179.\n",
    "# There appears to be a reasonable size difference in title vs content sentiment for BTC with content being more positive."
   ]
  },
  {
   "cell_type": "code",
   "execution_count": 9,
   "metadata": {},
   "outputs": [],
   "source": [
    "# Describe the Ethereum Sentiment\n",
    "# The Ethereum sentiment is also neutral with a slightly positive weighting, mean title sentiment at 0.103 and mean content sentiment at 0.110.\n",
    "# The content sentiment for Ethereum articles closely matches the title sentiment."
   ]
  },
  {
   "cell_type": "markdown",
   "metadata": {},
   "source": [
    "### Questions:\n",
    "\n",
    "Q: Which coin had the highest mean positive score?\n",
    "\n",
    "A: For content (text) BTC had highest mean positive sentiment score of 0.074800 (vs ETH at 0.048050)\n",
    "\n",
    "Q: Which coin had the highest compound score?\n",
    "\n",
    "A: For content (text) BTC had highest compound sentiment score of 0.8402 (vs ETH at 0.7783). Highest compound article was related to El Salvador making BTC legal tender.\n",
    "\n",
    "Q. Which coin had the highest positive score?\n",
    "\n",
    "A: For content (text) BTC had highest positive sentiment score of 0.282 (vs ETH at 0.191)"
   ]
  },
  {
   "cell_type": "markdown",
   "metadata": {},
   "source": [
    "---"
   ]
  },
  {
   "cell_type": "markdown",
   "metadata": {},
   "source": [
    "## 2. Natural Language Processing\n",
    "---\n",
    "###   Tokenizer\n",
    "\n",
    "In this section, you will use NLTK and Python to tokenize the text for each coin. Be sure to:\n",
    "1. Lowercase each word.\n",
    "2. Remove Punctuation.\n",
    "3. Remove Stopwords."
   ]
  },
  {
   "cell_type": "code",
   "execution_count": 10,
   "metadata": {},
   "outputs": [],
   "source": [
    "from nltk.tokenize import word_tokenize, sent_tokenize\n",
    "from nltk.corpus import stopwords\n",
    "from nltk.stem import WordNetLemmatizer, PorterStemmer\n",
    "from string import punctuation\n",
    "import re"
   ]
  },
  {
   "cell_type": "code",
   "execution_count": 11,
   "metadata": {},
   "outputs": [],
   "source": [
    "# Instantiate the lemmatizer\n",
    "# YOUR CODE HERE!\n",
    "\n",
    "# Create a list of stopwords\n",
    "# YOUR CODE HERE!\n",
    "\n",
    "# Expand the default stopwords list if necessary\n",
    "# YOUR CODE HERE!"
   ]
  },
  {
   "cell_type": "code",
   "execution_count": 12,
   "metadata": {},
   "outputs": [],
   "source": [
    "# Complete the tokenizer function\n",
    "def tokenizer(text):\n",
    "    \"\"\"Tokenizes text.\"\"\"\n",
    "    \n",
    "    # Remove the punctuation from text\n",
    "\n",
    "   \n",
    "    # Create a tokenized list of the words\n",
    "    \n",
    "    \n",
    "    # Lemmatize words into root words\n",
    "\n",
    "   \n",
    "    # Convert the words to lowercase\n",
    "    \n",
    "    \n",
    "    # Remove the stop words\n",
    "    \n",
    "    \n",
    "    return tokens"
   ]
  },
  {
   "cell_type": "code",
   "execution_count": 13,
   "metadata": {},
   "outputs": [],
   "source": [
    "# Create a new tokens column for Bitcoin\n",
    "# YOUR CODE HERE!"
   ]
  },
  {
   "cell_type": "code",
   "execution_count": 14,
   "metadata": {},
   "outputs": [],
   "source": [
    "# Create a new tokens column for Ethereum\n",
    "# YOUR CODE HERE!"
   ]
  },
  {
   "cell_type": "markdown",
   "metadata": {},
   "source": [
    "---"
   ]
  },
  {
   "cell_type": "markdown",
   "metadata": {},
   "source": [
    "### NGrams and Frequency Analysis\n",
    "\n",
    "In this section you will look at the ngrams and word frequency for each coin. \n",
    "\n",
    "1. Use NLTK to produce the n-grams for N = 2. \n",
    "2. List the top 10 words for each coin. "
   ]
  },
  {
   "cell_type": "code",
   "execution_count": 15,
   "metadata": {},
   "outputs": [],
   "source": [
    "from collections import Counter\n",
    "from nltk import ngrams"
   ]
  },
  {
   "cell_type": "code",
   "execution_count": 16,
   "metadata": {},
   "outputs": [],
   "source": [
    "# Generate the Bitcoin N-grams where N=2\n",
    "# YOUR CODE HERE!"
   ]
  },
  {
   "cell_type": "code",
   "execution_count": 17,
   "metadata": {},
   "outputs": [],
   "source": [
    "# Generate the Ethereum N-grams where N=2\n",
    "# YOUR CODE HERE!"
   ]
  },
  {
   "cell_type": "code",
   "execution_count": 18,
   "metadata": {},
   "outputs": [],
   "source": [
    "# Function token_count generates the top 10 words for a given coin\n",
    "def token_count(tokens, N=3):\n",
    "    \"\"\"Returns the top N tokens from the frequency count\"\"\"\n",
    "    return Counter(tokens).most_common(N)"
   ]
  },
  {
   "cell_type": "code",
   "execution_count": 19,
   "metadata": {},
   "outputs": [],
   "source": [
    "# Use token_count to get the top 10 words for Bitcoin\n",
    "# YOUR CODE HERE!"
   ]
  },
  {
   "cell_type": "code",
   "execution_count": 20,
   "metadata": {},
   "outputs": [],
   "source": [
    "# Use token_count to get the top 10 words for Ethereum\n",
    "# YOUR CODE HERE!"
   ]
  },
  {
   "cell_type": "markdown",
   "metadata": {},
   "source": [
    "---"
   ]
  },
  {
   "cell_type": "markdown",
   "metadata": {},
   "source": [
    "### Word Clouds\n",
    "\n",
    "In this section, you will generate word clouds for each coin to summarize the news for each coin"
   ]
  },
  {
   "cell_type": "code",
   "execution_count": 21,
   "metadata": {},
   "outputs": [],
   "source": [
    "from wordcloud import WordCloud\n",
    "import matplotlib.pyplot as plt\n",
    "plt.style.use('seaborn-whitegrid')\n",
    "import matplotlib as mpl\n",
    "mpl.rcParams['figure.figsize'] = [20.0, 10.0]"
   ]
  },
  {
   "cell_type": "code",
   "execution_count": 22,
   "metadata": {},
   "outputs": [],
   "source": [
    "# Generate the Bitcoin word cloud\n",
    "# YOUR CODE HERE!"
   ]
  },
  {
   "cell_type": "code",
   "execution_count": 23,
   "metadata": {},
   "outputs": [],
   "source": [
    "# Generate the Ethereum word cloud\n",
    "# YOUR CODE HERE!"
   ]
  },
  {
   "cell_type": "markdown",
   "metadata": {},
   "source": [
    "---\n",
    "## 3. Named Entity Recognition\n",
    "\n",
    "In this section, you will build a named entity recognition model for both Bitcoin and Ethereum, then visualize the tags using SpaCy."
   ]
  },
  {
   "cell_type": "code",
   "execution_count": 24,
   "metadata": {},
   "outputs": [],
   "source": [
    "import spacy\n",
    "from spacy import displacy"
   ]
  },
  {
   "cell_type": "code",
   "execution_count": 25,
   "metadata": {},
   "outputs": [],
   "source": [
    "# Download the language model for SpaCy\n",
    "# !python -m spacy download en_core_web_sm"
   ]
  },
  {
   "cell_type": "code",
   "execution_count": 26,
   "metadata": {},
   "outputs": [],
   "source": [
    "# Load the spaCy model\n",
    "nlp = spacy.load('en_core_web_sm')"
   ]
  },
  {
   "cell_type": "markdown",
   "metadata": {},
   "source": [
    "---\n",
    "### Bitcoin NER"
   ]
  },
  {
   "cell_type": "code",
   "execution_count": 27,
   "metadata": {},
   "outputs": [],
   "source": [
    "# Concatenate all of the Bitcoin text together\n",
    "# YOUR CODE HERE!"
   ]
  },
  {
   "cell_type": "code",
   "execution_count": 28,
   "metadata": {},
   "outputs": [],
   "source": [
    "# Run the NER processor on all of the text\n",
    "# YOUR CODE HERE!\n",
    "\n",
    "# Add a title to the document\n",
    "# YOUR CODE HERE!"
   ]
  },
  {
   "cell_type": "code",
   "execution_count": 29,
   "metadata": {},
   "outputs": [],
   "source": [
    "# Render the visualization\n",
    "# YOUR CODE HERE!"
   ]
  },
  {
   "cell_type": "code",
   "execution_count": 30,
   "metadata": {},
   "outputs": [],
   "source": [
    "# List all Entities\n",
    "# YOUR CODE HERE!"
   ]
  },
  {
   "cell_type": "markdown",
   "metadata": {},
   "source": [
    "---"
   ]
  },
  {
   "cell_type": "markdown",
   "metadata": {},
   "source": [
    "### Ethereum NER"
   ]
  },
  {
   "cell_type": "code",
   "execution_count": 31,
   "metadata": {},
   "outputs": [],
   "source": [
    "# Concatenate all of the Ethereum text together\n",
    "# YOUR CODE HERE!"
   ]
  },
  {
   "cell_type": "code",
   "execution_count": 32,
   "metadata": {},
   "outputs": [],
   "source": [
    "# Run the NER processor on all of the text\n",
    "# YOUR CODE HERE!\n",
    "\n",
    "# Add a title to the document\n",
    "# YOUR CODE HERE!"
   ]
  },
  {
   "cell_type": "code",
   "execution_count": 33,
   "metadata": {},
   "outputs": [],
   "source": [
    "# Render the visualization\n",
    "# YOUR CODE HERE!"
   ]
  },
  {
   "cell_type": "code",
   "execution_count": 34,
   "metadata": {},
   "outputs": [],
   "source": [
    "# List all Entities\n",
    "# YOUR CODE HERE!"
   ]
  },
  {
   "cell_type": "markdown",
   "metadata": {},
   "source": [
    "---"
   ]
  }
 ],
 "metadata": {
  "file_extension": ".py",
  "kernelspec": {
   "display_name": "Python [conda env:dev]",
   "language": "python",
   "name": "conda-env-dev-py"
  },
  "language_info": {
   "codemirror_mode": {
    "name": "ipython",
    "version": 3
   },
   "file_extension": ".py",
   "mimetype": "text/x-python",
   "name": "python",
   "nbconvert_exporter": "python",
   "pygments_lexer": "ipython3",
   "version": "3.7.9"
  },
  "mimetype": "text/x-python",
  "name": "python",
  "npconvert_exporter": "python",
  "pygments_lexer": "ipython3",
  "version": 3
 },
 "nbformat": 4,
 "nbformat_minor": 4
}
