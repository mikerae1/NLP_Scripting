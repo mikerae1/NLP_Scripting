{
 "cells": [
  {
   "cell_type": "markdown",
   "metadata": {},
   "source": [
    "# Unit 12 - Tales from the Crypto\n",
    "\n",
    "---\n"
   ]
  },
  {
   "cell_type": "markdown",
   "metadata": {},
   "source": [
    "## 1. Sentiment Analysis\n",
    "\n",
    "Use the [newsapi](https://newsapi.org/) to pull the latest news articles for Bitcoin and Ethereum and create a DataFrame of sentiment scores for each coin.\n",
    "\n",
    "Use descriptive statistics to answer the following questions:\n",
    "1. Which coin had the highest mean positive score?\n",
    "2. Which coin had the highest negative score?\n",
    "3. Which coin had the highest positive score?"
   ]
  },
  {
   "cell_type": "code",
   "execution_count": 1,
   "metadata": {},
   "outputs": [
    {
     "name": "stderr",
     "output_type": "stream",
     "text": [
      "[nltk_data] Downloading package vader_lexicon to\n",
      "[nltk_data]     C:\\Users\\miker\\AppData\\Roaming\\nltk_data...\n",
      "[nltk_data]   Package vader_lexicon is already up-to-date!\n"
     ]
    }
   ],
   "source": [
    "# Initial imports\n",
    "import os\n",
    "import pandas as pd\n",
    "from dotenv import load_dotenv\n",
    "import nltk as nltk\n",
    "nltk.download('vader_lexicon')\n",
    "from nltk.sentiment.vader import SentimentIntensityAnalyzer\n",
    "analyzer = SentimentIntensityAnalyzer()\n",
    "\n",
    "%matplotlib inline"
   ]
  },
  {
   "cell_type": "code",
   "execution_count": 2,
   "metadata": {},
   "outputs": [],
   "source": [
    "# Read your api key environment variable\n",
    "load_dotenv() #need this line to activate the dotenv command\n",
    "news_api_key = os.getenv(\"news_api\")"
   ]
  },
  {
   "cell_type": "code",
   "execution_count": 3,
   "metadata": {},
   "outputs": [],
   "source": [
    "# Create a newsapi client\n",
    "from newsapi import NewsApiClient\n",
    "newsapi = NewsApiClient(api_key=news_api_key)"
   ]
  },
  {
   "cell_type": "code",
   "execution_count": 4,
   "metadata": {},
   "outputs": [
    {
     "data": {
      "text/plain": [
       "11733"
      ]
     },
     "execution_count": 4,
     "metadata": {},
     "output_type": "execute_result"
    }
   ],
   "source": [
    "# Fetch the Bitcoin news articles\n",
    "bitcoin_articles = newsapi.get_everything(q='bitcoin', language='en', sort_by='relevancy')\n",
    "bitcoin_articles['totalResults']"
   ]
  },
  {
   "cell_type": "code",
   "execution_count": 5,
   "metadata": {},
   "outputs": [
    {
     "data": {
      "text/plain": [
       "3338"
      ]
     },
     "execution_count": 5,
     "metadata": {},
     "output_type": "execute_result"
    }
   ],
   "source": [
    "# Fetch the Ethereum news articles\n",
    "ethereum_articles = newsapi.get_everything(q='ethereum', language='en', sort_by='relevancy')\n",
    "ethereum_articles['totalResults']"
   ]
  },
  {
   "cell_type": "code",
   "execution_count": 64,
   "metadata": {},
   "outputs": [
    {
     "data": {
      "text/html": [
       "<div>\n",
       "<style scoped>\n",
       "    .dataframe tbody tr th:only-of-type {\n",
       "        vertical-align: middle;\n",
       "    }\n",
       "\n",
       "    .dataframe tbody tr th {\n",
       "        vertical-align: top;\n",
       "    }\n",
       "\n",
       "    .dataframe thead th {\n",
       "        text-align: right;\n",
       "    }\n",
       "</style>\n",
       "<table border=\"1\" class=\"dataframe\">\n",
       "  <thead>\n",
       "    <tr style=\"text-align: right;\">\n",
       "      <th></th>\n",
       "      <th>title</th>\n",
       "      <th>content</th>\n",
       "      <th>title_sentiment</th>\n",
       "      <th>content_sentiment</th>\n",
       "      <th>compound</th>\n",
       "      <th>negative</th>\n",
       "      <th>neutral</th>\n",
       "      <th>positive</th>\n",
       "    </tr>\n",
       "  </thead>\n",
       "  <tbody>\n",
       "    <tr>\n",
       "      <th>0</th>\n",
       "      <td>El Salvador becomes the first countr...</td>\n",
       "      <td>El Salvador's President Nayib Bukele...</td>\n",
       "      <td>0.1280</td>\n",
       "      <td>0.8402</td>\n",
       "      <td>0.8402</td>\n",
       "      <td>0.000</td>\n",
       "      <td>0.718</td>\n",
       "      <td>0.282</td>\n",
       "    </tr>\n",
       "    <tr>\n",
       "      <th>1</th>\n",
       "      <td>El Salvador Becomes First Country to...</td>\n",
       "      <td>El Salvador has become the first cou...</td>\n",
       "      <td>0.0000</td>\n",
       "      <td>0.1280</td>\n",
       "      <td>0.1280</td>\n",
       "      <td>0.000</td>\n",
       "      <td>0.957</td>\n",
       "      <td>0.043</td>\n",
       "    </tr>\n",
       "    <tr>\n",
       "      <th>2</th>\n",
       "      <td>Elon Musk says Tesla will resume Bit...</td>\n",
       "      <td>It's all about clean energy, it seem...</td>\n",
       "      <td>0.0000</td>\n",
       "      <td>0.6908</td>\n",
       "      <td>0.6908</td>\n",
       "      <td>0.000</td>\n",
       "      <td>0.831</td>\n",
       "      <td>0.169</td>\n",
       "    </tr>\n",
       "    <tr>\n",
       "      <th>3</th>\n",
       "      <td>Bitcoin: El Salvador makes cryptocur...</td>\n",
       "      <td>image captionThe move means bitcoin ...</td>\n",
       "      <td>0.1280</td>\n",
       "      <td>0.2732</td>\n",
       "      <td>0.2732</td>\n",
       "      <td>0.000</td>\n",
       "      <td>0.940</td>\n",
       "      <td>0.060</td>\n",
       "    </tr>\n",
       "    <tr>\n",
       "      <th>4</th>\n",
       "      <td>Miami's Bitcoin Conference May Be th...</td>\n",
       "      <td>Several crypto fans that descended o...</td>\n",
       "      <td>0.5994</td>\n",
       "      <td>0.5574</td>\n",
       "      <td>0.5574</td>\n",
       "      <td>0.000</td>\n",
       "      <td>0.893</td>\n",
       "      <td>0.107</td>\n",
       "    </tr>\n",
       "    <tr>\n",
       "      <th>5</th>\n",
       "      <td>In search of a new crypto deity</td>\n",
       "      <td>Hello friends, and welcome back to W...</td>\n",
       "      <td>0.0000</td>\n",
       "      <td>0.7500</td>\n",
       "      <td>0.7500</td>\n",
       "      <td>0.000</td>\n",
       "      <td>0.846</td>\n",
       "      <td>0.154</td>\n",
       "    </tr>\n",
       "    <tr>\n",
       "      <th>6</th>\n",
       "      <td>PayPal Will Let Users Transfer Bitco...</td>\n",
       "      <td>In spite of the environmental and re...</td>\n",
       "      <td>0.0000</td>\n",
       "      <td>-0.5267</td>\n",
       "      <td>-0.5267</td>\n",
       "      <td>0.096</td>\n",
       "      <td>0.904</td>\n",
       "      <td>0.000</td>\n",
       "    </tr>\n",
       "    <tr>\n",
       "      <th>7</th>\n",
       "      <td>Donald Trump calls Bitcoin 'a scam a...</td>\n",
       "      <td>By Mary-Ann RussonBusiness reporter,...</td>\n",
       "      <td>-0.5719</td>\n",
       "      <td>0.3400</td>\n",
       "      <td>0.3400</td>\n",
       "      <td>0.000</td>\n",
       "      <td>0.930</td>\n",
       "      <td>0.070</td>\n",
       "    </tr>\n",
       "    <tr>\n",
       "      <th>8</th>\n",
       "      <td>Iran bans cryptocurrency mining for ...</td>\n",
       "      <td>The ban affects licensed and unlicen...</td>\n",
       "      <td>0.0000</td>\n",
       "      <td>-0.5574</td>\n",
       "      <td>-0.5574</td>\n",
       "      <td>0.107</td>\n",
       "      <td>0.893</td>\n",
       "      <td>0.000</td>\n",
       "    </tr>\n",
       "    <tr>\n",
       "      <th>9</th>\n",
       "      <td>PayPal will soon let you exchange Bi...</td>\n",
       "      <td>After years of hesitation, PayPal co...</td>\n",
       "      <td>0.0000</td>\n",
       "      <td>-0.2732</td>\n",
       "      <td>-0.2732</td>\n",
       "      <td>0.062</td>\n",
       "      <td>0.938</td>\n",
       "      <td>0.000</td>\n",
       "    </tr>\n",
       "  </tbody>\n",
       "</table>\n",
       "</div>"
      ],
      "text/plain": [
       "                                     title  \\\n",
       "0  El Salvador becomes the first countr...   \n",
       "1  El Salvador Becomes First Country to...   \n",
       "2  Elon Musk says Tesla will resume Bit...   \n",
       "3  Bitcoin: El Salvador makes cryptocur...   \n",
       "4  Miami's Bitcoin Conference May Be th...   \n",
       "5          In search of a new crypto deity   \n",
       "6  PayPal Will Let Users Transfer Bitco...   \n",
       "7  Donald Trump calls Bitcoin 'a scam a...   \n",
       "8  Iran bans cryptocurrency mining for ...   \n",
       "9  PayPal will soon let you exchange Bi...   \n",
       "\n",
       "                                   content  title_sentiment  \\\n",
       "0  El Salvador's President Nayib Bukele...           0.1280   \n",
       "1  El Salvador has become the first cou...           0.0000   \n",
       "2  It's all about clean energy, it seem...           0.0000   \n",
       "3  image captionThe move means bitcoin ...           0.1280   \n",
       "4  Several crypto fans that descended o...           0.5994   \n",
       "5  Hello friends, and welcome back to W...           0.0000   \n",
       "6  In spite of the environmental and re...           0.0000   \n",
       "7  By Mary-Ann RussonBusiness reporter,...          -0.5719   \n",
       "8  The ban affects licensed and unlicen...           0.0000   \n",
       "9  After years of hesitation, PayPal co...           0.0000   \n",
       "\n",
       "   content_sentiment  compound  negative  neutral  positive  \n",
       "0             0.8402    0.8402     0.000    0.718     0.282  \n",
       "1             0.1280    0.1280     0.000    0.957     0.043  \n",
       "2             0.6908    0.6908     0.000    0.831     0.169  \n",
       "3             0.2732    0.2732     0.000    0.940     0.060  \n",
       "4             0.5574    0.5574     0.000    0.893     0.107  \n",
       "5             0.7500    0.7500     0.000    0.846     0.154  \n",
       "6            -0.5267   -0.5267     0.096    0.904     0.000  \n",
       "7             0.3400    0.3400     0.000    0.930     0.070  \n",
       "8            -0.5574   -0.5574     0.107    0.893     0.000  \n",
       "9            -0.2732   -0.2732     0.062    0.938     0.000  "
      ]
     },
     "execution_count": 64,
     "metadata": {},
     "output_type": "execute_result"
    }
   ],
   "source": [
    "# Create the Bitcoin sentiment scores DataFrame\n",
    "\n",
    "# Added title into df to see difference vs content of article\n",
    "btc_df = pd.DataFrame(bitcoin_articles['articles'])[['title', 'content']]\n",
    "\n",
    "import numpy as np\n",
    "btc_df['title_sentiment'] = np.nan\n",
    "btc_df['content_sentiment'] = np.nan\n",
    "btc_df['compound'] = np.nan\n",
    "btc_df['negative'] = np.nan\n",
    "btc_df['neutral'] = np.nan\n",
    "btc_df['positive'] = np.nan\n",
    "\n",
    "for idx, row in btc_df.iterrows():\n",
    "    btc_df.loc[idx,'title_sentiment'] = analyzer.polarity_scores(row['title'])['compound']\n",
    "    btc_df.loc[idx,'content_sentiment'] = analyzer.polarity_scores(row['content'])['compound']\n",
    "    btc_df.loc[idx,'compound'] = analyzer.polarity_scores(row['content'])['compound']\n",
    "    btc_df.loc[idx,'negative'] = analyzer.polarity_scores(row['content'])['neg']\n",
    "    btc_df.loc[idx,'neutral'] = analyzer.polarity_scores(row['content'])['neu']\n",
    "    btc_df.loc[idx,'positive'] = analyzer.polarity_scores(row['content'])['pos']\n",
    "    \n",
    "btc_df.head(10)"
   ]
  },
  {
   "cell_type": "code",
   "execution_count": 7,
   "metadata": {},
   "outputs": [
    {
     "data": {
      "text/plain": [
       "{'neg': 0.075, 'neu': 0.841, 'pos': 0.084, 'compound': 0.0772}"
      ]
     },
     "execution_count": 7,
     "metadata": {},
     "output_type": "execute_result"
    }
   ],
   "source": [
    "analyzer.polarity_scores(row['content'])"
   ]
  },
  {
   "cell_type": "code",
   "execution_count": 8,
   "metadata": {},
   "outputs": [
    {
     "data": {
      "text/html": [
       "<div>\n",
       "<style scoped>\n",
       "    .dataframe tbody tr th:only-of-type {\n",
       "        vertical-align: middle;\n",
       "    }\n",
       "\n",
       "    .dataframe tbody tr th {\n",
       "        vertical-align: top;\n",
       "    }\n",
       "\n",
       "    .dataframe thead th {\n",
       "        text-align: right;\n",
       "    }\n",
       "</style>\n",
       "<table border=\"1\" class=\"dataframe\">\n",
       "  <thead>\n",
       "    <tr style=\"text-align: right;\">\n",
       "      <th></th>\n",
       "      <th>title_sentiment</th>\n",
       "      <th>content_sentiment</th>\n",
       "      <th>compound</th>\n",
       "      <th>negative</th>\n",
       "      <th>neutral</th>\n",
       "      <th>positive</th>\n",
       "    </tr>\n",
       "  </thead>\n",
       "  <tbody>\n",
       "    <tr>\n",
       "      <th>count</th>\n",
       "      <td>20.000000</td>\n",
       "      <td>20.000000</td>\n",
       "      <td>20.000000</td>\n",
       "      <td>20.000000</td>\n",
       "      <td>20.00000</td>\n",
       "      <td>20.000000</td>\n",
       "    </tr>\n",
       "    <tr>\n",
       "      <th>mean</th>\n",
       "      <td>0.023570</td>\n",
       "      <td>0.179920</td>\n",
       "      <td>0.179920</td>\n",
       "      <td>0.026900</td>\n",
       "      <td>0.89825</td>\n",
       "      <td>0.074800</td>\n",
       "    </tr>\n",
       "    <tr>\n",
       "      <th>std</th>\n",
       "      <td>0.340676</td>\n",
       "      <td>0.383615</td>\n",
       "      <td>0.383615</td>\n",
       "      <td>0.039178</td>\n",
       "      <td>0.06832</td>\n",
       "      <td>0.069831</td>\n",
       "    </tr>\n",
       "    <tr>\n",
       "      <th>min</th>\n",
       "      <td>-0.686800</td>\n",
       "      <td>-0.557400</td>\n",
       "      <td>-0.557400</td>\n",
       "      <td>0.000000</td>\n",
       "      <td>0.71800</td>\n",
       "      <td>0.000000</td>\n",
       "    </tr>\n",
       "    <tr>\n",
       "      <th>25%</th>\n",
       "      <td>0.000000</td>\n",
       "      <td>0.000000</td>\n",
       "      <td>0.000000</td>\n",
       "      <td>0.000000</td>\n",
       "      <td>0.84475</td>\n",
       "      <td>0.032250</td>\n",
       "    </tr>\n",
       "    <tr>\n",
       "      <th>50%</th>\n",
       "      <td>0.000000</td>\n",
       "      <td>0.165150</td>\n",
       "      <td>0.165150</td>\n",
       "      <td>0.000000</td>\n",
       "      <td>0.91050</td>\n",
       "      <td>0.065500</td>\n",
       "    </tr>\n",
       "    <tr>\n",
       "      <th>75%</th>\n",
       "      <td>0.128000</td>\n",
       "      <td>0.401050</td>\n",
       "      <td>0.401050</td>\n",
       "      <td>0.059000</td>\n",
       "      <td>0.94375</td>\n",
       "      <td>0.105500</td>\n",
       "    </tr>\n",
       "    <tr>\n",
       "      <th>max</th>\n",
       "      <td>0.599400</td>\n",
       "      <td>0.840200</td>\n",
       "      <td>0.840200</td>\n",
       "      <td>0.107000</td>\n",
       "      <td>1.00000</td>\n",
       "      <td>0.282000</td>\n",
       "    </tr>\n",
       "  </tbody>\n",
       "</table>\n",
       "</div>"
      ],
      "text/plain": [
       "       title_sentiment  content_sentiment   compound   negative   neutral  \\\n",
       "count        20.000000          20.000000  20.000000  20.000000  20.00000   \n",
       "mean          0.023570           0.179920   0.179920   0.026900   0.89825   \n",
       "std           0.340676           0.383615   0.383615   0.039178   0.06832   \n",
       "min          -0.686800          -0.557400  -0.557400   0.000000   0.71800   \n",
       "25%           0.000000           0.000000   0.000000   0.000000   0.84475   \n",
       "50%           0.000000           0.165150   0.165150   0.000000   0.91050   \n",
       "75%           0.128000           0.401050   0.401050   0.059000   0.94375   \n",
       "max           0.599400           0.840200   0.840200   0.107000   1.00000   \n",
       "\n",
       "        positive  \n",
       "count  20.000000  \n",
       "mean    0.074800  \n",
       "std     0.069831  \n",
       "min     0.000000  \n",
       "25%     0.032250  \n",
       "50%     0.065500  \n",
       "75%     0.105500  \n",
       "max     0.282000  "
      ]
     },
     "execution_count": 8,
     "metadata": {},
     "output_type": "execute_result"
    }
   ],
   "source": [
    "btc_df.describe()"
   ]
  },
  {
   "cell_type": "code",
   "execution_count": 9,
   "metadata": {},
   "outputs": [
    {
     "name": "stdout",
     "output_type": "stream",
     "text": [
      "The max compound score for Bitcoin is 0.8402\n",
      "The min compound score for Bitcoin is -0.5574\n",
      "The max positive score for Bitcoin is 0.282\n",
      "The min positive score for Bitcoin is 0.0\n"
     ]
    }
   ],
   "source": [
    "print(f\"The max compound score for Bitcoin is {btc_df['compound'].max()}\")\n",
    "print(f\"The min compound score for Bitcoin is {btc_df['compound'].min()}\")\n",
    "\n",
    "print(f\"The max positive score for Bitcoin is {btc_df['positive'].max()}\")\n",
    "print(f\"The min positive score for Bitcoin is {btc_df['positive'].min()}\")"
   ]
  },
  {
   "cell_type": "code",
   "execution_count": 10,
   "metadata": {},
   "outputs": [
    {
     "name": "stdout",
     "output_type": "stream",
     "text": [
      "0    El Salvador's President Nayib Bukele has made good on his promise to adopt Bitcoin as legal tender. Officials in the Central American country's congress voted to accept the cryptocurrency by a majori… [+1414 chars]\n",
      "Name: content, dtype: object\n"
     ]
    }
   ],
   "source": [
    "# Out of interest article with the highest compound score for BTC\n",
    "df = pd.DataFrame(btc_df.loc[btc_df['compound'].idxmax()]).transpose()\n",
    "pd.set_option(\"max_colwidth\", 500)\n",
    "print(df['content'])"
   ]
  },
  {
   "cell_type": "code",
   "execution_count": 11,
   "metadata": {},
   "outputs": [],
   "source": [
    "df.to_csv('btc_highest_compound_sentiment.csv', encoding='utf-8', index=False)"
   ]
  },
  {
   "cell_type": "code",
   "execution_count": 29,
   "metadata": {},
   "outputs": [],
   "source": [
    "# resetting column width as I played around with this\n",
    "pd.set_option(\"max_colwidth\", 40)"
   ]
  },
  {
   "cell_type": "code",
   "execution_count": 101,
   "metadata": {},
   "outputs": [
    {
     "data": {
      "text/html": [
       "<div>\n",
       "<style scoped>\n",
       "    .dataframe tbody tr th:only-of-type {\n",
       "        vertical-align: middle;\n",
       "    }\n",
       "\n",
       "    .dataframe tbody tr th {\n",
       "        vertical-align: top;\n",
       "    }\n",
       "\n",
       "    .dataframe thead th {\n",
       "        text-align: right;\n",
       "    }\n",
       "</style>\n",
       "<table border=\"1\" class=\"dataframe\">\n",
       "  <thead>\n",
       "    <tr style=\"text-align: right;\">\n",
       "      <th></th>\n",
       "      <th>title</th>\n",
       "      <th>content</th>\n",
       "      <th>title_sentiment</th>\n",
       "      <th>content_sentiment</th>\n",
       "      <th>compound</th>\n",
       "      <th>negative</th>\n",
       "      <th>neutral</th>\n",
       "      <th>positive</th>\n",
       "    </tr>\n",
       "  </thead>\n",
       "  <tbody>\n",
       "    <tr>\n",
       "      <th>0</th>\n",
       "      <td>This blockchain development course b...</td>\n",
       "      <td>TL;DR: The Cryptocurrency with Ether...</td>\n",
       "      <td>0.0000</td>\n",
       "      <td>0.0000</td>\n",
       "      <td>0.0000</td>\n",
       "      <td>0.000</td>\n",
       "      <td>1.000</td>\n",
       "      <td>0.000</td>\n",
       "    </tr>\n",
       "    <tr>\n",
       "      <th>1</th>\n",
       "      <td>Classic memes that have sold as NFTs</td>\n",
       "      <td>It wasn't long ago that your average...</td>\n",
       "      <td>0.0000</td>\n",
       "      <td>-0.2960</td>\n",
       "      <td>-0.2960</td>\n",
       "      <td>0.061</td>\n",
       "      <td>0.939</td>\n",
       "      <td>0.000</td>\n",
       "    </tr>\n",
       "    <tr>\n",
       "      <th>2</th>\n",
       "      <td>Ethereum extends gains to rise 8%; b...</td>\n",
       "      <td>A representation of virtual currency...</td>\n",
       "      <td>0.4404</td>\n",
       "      <td>0.0000</td>\n",
       "      <td>0.0000</td>\n",
       "      <td>0.000</td>\n",
       "      <td>1.000</td>\n",
       "      <td>0.000</td>\n",
       "    </tr>\n",
       "    <tr>\n",
       "      <th>3</th>\n",
       "      <td>Ethereum creator Vitalik Buterin mad...</td>\n",
       "      <td>This article was translated from our...</td>\n",
       "      <td>0.4404</td>\n",
       "      <td>-0.3400</td>\n",
       "      <td>-0.3400</td>\n",
       "      <td>0.066</td>\n",
       "      <td>0.934</td>\n",
       "      <td>0.000</td>\n",
       "    </tr>\n",
       "    <tr>\n",
       "      <th>4</th>\n",
       "      <td>Norton 360 Antivirus Now Lets You Mi...</td>\n",
       "      <td>This new mining feature is called 'N...</td>\n",
       "      <td>0.0000</td>\n",
       "      <td>0.0000</td>\n",
       "      <td>0.0000</td>\n",
       "      <td>0.000</td>\n",
       "      <td>1.000</td>\n",
       "      <td>0.000</td>\n",
       "    </tr>\n",
       "    <tr>\n",
       "      <th>5</th>\n",
       "      <td>GameStop Is Building An NFT Platform...</td>\n",
       "      <td>\"We are building a team\" the page de...</td>\n",
       "      <td>0.0000</td>\n",
       "      <td>0.6705</td>\n",
       "      <td>0.6705</td>\n",
       "      <td>0.000</td>\n",
       "      <td>0.812</td>\n",
       "      <td>0.188</td>\n",
       "    </tr>\n",
       "    <tr>\n",
       "      <th>6</th>\n",
       "      <td>SafeMoon: New Dogecoin or Ponzi scheme?</td>\n",
       "      <td>Opinions expressed by Entrepreneur c...</td>\n",
       "      <td>0.0000</td>\n",
       "      <td>0.1280</td>\n",
       "      <td>0.1280</td>\n",
       "      <td>0.000</td>\n",
       "      <td>0.949</td>\n",
       "      <td>0.051</td>\n",
       "    </tr>\n",
       "    <tr>\n",
       "      <th>7</th>\n",
       "      <td>8 Money Toilets</td>\n",
       "      <td>CryptoPunks represent the only histo...</td>\n",
       "      <td>0.0000</td>\n",
       "      <td>-0.4588</td>\n",
       "      <td>-0.4588</td>\n",
       "      <td>0.151</td>\n",
       "      <td>0.782</td>\n",
       "      <td>0.067</td>\n",
       "    </tr>\n",
       "    <tr>\n",
       "      <th>8</th>\n",
       "      <td>Buying a pink NFT cat was a crypto n...</td>\n",
       "      <td>By Cristina CriddleTechnology report...</td>\n",
       "      <td>0.0000</td>\n",
       "      <td>0.0000</td>\n",
       "      <td>0.0000</td>\n",
       "      <td>0.000</td>\n",
       "      <td>1.000</td>\n",
       "      <td>0.000</td>\n",
       "    </tr>\n",
       "    <tr>\n",
       "      <th>9</th>\n",
       "      <td>Two ether bulls break down 3 reasons...</td>\n",
       "      <td>In March 2020, blockchain protocol s...</td>\n",
       "      <td>0.5413</td>\n",
       "      <td>0.2023</td>\n",
       "      <td>0.2023</td>\n",
       "      <td>0.000</td>\n",
       "      <td>0.909</td>\n",
       "      <td>0.091</td>\n",
       "    </tr>\n",
       "  </tbody>\n",
       "</table>\n",
       "</div>"
      ],
      "text/plain": [
       "                                     title  \\\n",
       "0  This blockchain development course b...   \n",
       "1     Classic memes that have sold as NFTs   \n",
       "2  Ethereum extends gains to rise 8%; b...   \n",
       "3  Ethereum creator Vitalik Buterin mad...   \n",
       "4  Norton 360 Antivirus Now Lets You Mi...   \n",
       "5  GameStop Is Building An NFT Platform...   \n",
       "6  SafeMoon: New Dogecoin or Ponzi scheme?   \n",
       "7                          8 Money Toilets   \n",
       "8  Buying a pink NFT cat was a crypto n...   \n",
       "9  Two ether bulls break down 3 reasons...   \n",
       "\n",
       "                                   content  title_sentiment  \\\n",
       "0  TL;DR: The Cryptocurrency with Ether...           0.0000   \n",
       "1  It wasn't long ago that your average...           0.0000   \n",
       "2  A representation of virtual currency...           0.4404   \n",
       "3  This article was translated from our...           0.4404   \n",
       "4  This new mining feature is called 'N...           0.0000   \n",
       "5  \"We are building a team\" the page de...           0.0000   \n",
       "6  Opinions expressed by Entrepreneur c...           0.0000   \n",
       "7  CryptoPunks represent the only histo...           0.0000   \n",
       "8  By Cristina CriddleTechnology report...           0.0000   \n",
       "9  In March 2020, blockchain protocol s...           0.5413   \n",
       "\n",
       "   content_sentiment  compound  negative  neutral  positive  \n",
       "0             0.0000    0.0000     0.000    1.000     0.000  \n",
       "1            -0.2960   -0.2960     0.061    0.939     0.000  \n",
       "2             0.0000    0.0000     0.000    1.000     0.000  \n",
       "3            -0.3400   -0.3400     0.066    0.934     0.000  \n",
       "4             0.0000    0.0000     0.000    1.000     0.000  \n",
       "5             0.6705    0.6705     0.000    0.812     0.188  \n",
       "6             0.1280    0.1280     0.000    0.949     0.051  \n",
       "7            -0.4588   -0.4588     0.151    0.782     0.067  \n",
       "8             0.0000    0.0000     0.000    1.000     0.000  \n",
       "9             0.2023    0.2023     0.000    0.909     0.091  "
      ]
     },
     "execution_count": 101,
     "metadata": {},
     "output_type": "execute_result"
    }
   ],
   "source": [
    "# Create the Ethereum sentiment scores DataFrame\n",
    "ethereum_df = pd.DataFrame(ethereum_articles['articles'])[['title', 'content']]\n",
    "\n",
    "ethereum_df['title_sentiment'] = np.nan\n",
    "ethereum_df['content_sentiment'] = np.nan\n",
    "ethereum_df['compound'] = np.nan\n",
    "ethereum_df['negative'] = np.nan\n",
    "ethereum_df['neutral'] = np.nan\n",
    "ethereum_df['positive'] = np.nan\n",
    "\n",
    "for idx, row in ethereum_df.iterrows():\n",
    "    ethereum_df.loc[idx,'title_sentiment'] = analyzer.polarity_scores(row['title'])['compound']\n",
    "    ethereum_df.loc[idx,'content_sentiment'] = analyzer.polarity_scores(row['content'])['compound']\n",
    "    ethereum_df.loc[idx,'compound'] = analyzer.polarity_scores(row['content'])['compound']\n",
    "    ethereum_df.loc[idx,'negative'] = analyzer.polarity_scores(row['content'])['neg']\n",
    "    ethereum_df.loc[idx,'neutral'] = analyzer.polarity_scores(row['content'])['neu']\n",
    "    ethereum_df.loc[idx,'positive'] = analyzer.polarity_scores(row['content'])['pos']\n",
    "    \n",
    "ethereum_df.head(10)"
   ]
  },
  {
   "cell_type": "code",
   "execution_count": 102,
   "metadata": {},
   "outputs": [
    {
     "data": {
      "text/plain": [
       "'TL;DR: The Cryptocurrency with Ethereum and Solidity Blockchain Developer Bundle is on sale for £21.25 as of June 17, saving you 97% on list price.\\r\\nIs everyone you know investing in cryptocurrency? … [+949 chars]'"
      ]
     },
     "execution_count": 102,
     "metadata": {},
     "output_type": "execute_result"
    }
   ],
   "source": [
    "ethereum_df['content'][0]"
   ]
  },
  {
   "cell_type": "code",
   "execution_count": 14,
   "metadata": {},
   "outputs": [
    {
     "data": {
      "text/html": [
       "<div>\n",
       "<style scoped>\n",
       "    .dataframe tbody tr th:only-of-type {\n",
       "        vertical-align: middle;\n",
       "    }\n",
       "\n",
       "    .dataframe tbody tr th {\n",
       "        vertical-align: top;\n",
       "    }\n",
       "\n",
       "    .dataframe thead th {\n",
       "        text-align: right;\n",
       "    }\n",
       "</style>\n",
       "<table border=\"1\" class=\"dataframe\">\n",
       "  <thead>\n",
       "    <tr style=\"text-align: right;\">\n",
       "      <th></th>\n",
       "      <th>title_sentiment</th>\n",
       "      <th>content_sentiment</th>\n",
       "      <th>compound</th>\n",
       "      <th>negative</th>\n",
       "      <th>neutral</th>\n",
       "      <th>positive</th>\n",
       "    </tr>\n",
       "  </thead>\n",
       "  <tbody>\n",
       "    <tr>\n",
       "      <th>count</th>\n",
       "      <td>20.000000</td>\n",
       "      <td>20.000000</td>\n",
       "      <td>20.000000</td>\n",
       "      <td>20.000000</td>\n",
       "      <td>20.000000</td>\n",
       "      <td>20.000000</td>\n",
       "    </tr>\n",
       "    <tr>\n",
       "      <th>mean</th>\n",
       "      <td>0.103040</td>\n",
       "      <td>0.110260</td>\n",
       "      <td>0.110260</td>\n",
       "      <td>0.017850</td>\n",
       "      <td>0.934050</td>\n",
       "      <td>0.048050</td>\n",
       "    </tr>\n",
       "    <tr>\n",
       "      <th>std</th>\n",
       "      <td>0.228527</td>\n",
       "      <td>0.319522</td>\n",
       "      <td>0.319522</td>\n",
       "      <td>0.040227</td>\n",
       "      <td>0.071475</td>\n",
       "      <td>0.060335</td>\n",
       "    </tr>\n",
       "    <tr>\n",
       "      <th>min</th>\n",
       "      <td>-0.401900</td>\n",
       "      <td>-0.458800</td>\n",
       "      <td>-0.458800</td>\n",
       "      <td>0.000000</td>\n",
       "      <td>0.782000</td>\n",
       "      <td>0.000000</td>\n",
       "    </tr>\n",
       "    <tr>\n",
       "      <th>25%</th>\n",
       "      <td>0.000000</td>\n",
       "      <td>0.000000</td>\n",
       "      <td>0.000000</td>\n",
       "      <td>0.000000</td>\n",
       "      <td>0.912750</td>\n",
       "      <td>0.000000</td>\n",
       "    </tr>\n",
       "    <tr>\n",
       "      <th>50%</th>\n",
       "      <td>0.000000</td>\n",
       "      <td>0.000000</td>\n",
       "      <td>0.000000</td>\n",
       "      <td>0.000000</td>\n",
       "      <td>0.937000</td>\n",
       "      <td>0.025500</td>\n",
       "    </tr>\n",
       "    <tr>\n",
       "      <th>75%</th>\n",
       "      <td>0.328950</td>\n",
       "      <td>0.361200</td>\n",
       "      <td>0.361200</td>\n",
       "      <td>0.000000</td>\n",
       "      <td>1.000000</td>\n",
       "      <td>0.073000</td>\n",
       "    </tr>\n",
       "    <tr>\n",
       "      <th>max</th>\n",
       "      <td>0.541300</td>\n",
       "      <td>0.778300</td>\n",
       "      <td>0.778300</td>\n",
       "      <td>0.151000</td>\n",
       "      <td>1.000000</td>\n",
       "      <td>0.191000</td>\n",
       "    </tr>\n",
       "  </tbody>\n",
       "</table>\n",
       "</div>"
      ],
      "text/plain": [
       "       title_sentiment  content_sentiment   compound   negative    neutral  \\\n",
       "count        20.000000          20.000000  20.000000  20.000000  20.000000   \n",
       "mean          0.103040           0.110260   0.110260   0.017850   0.934050   \n",
       "std           0.228527           0.319522   0.319522   0.040227   0.071475   \n",
       "min          -0.401900          -0.458800  -0.458800   0.000000   0.782000   \n",
       "25%           0.000000           0.000000   0.000000   0.000000   0.912750   \n",
       "50%           0.000000           0.000000   0.000000   0.000000   0.937000   \n",
       "75%           0.328950           0.361200   0.361200   0.000000   1.000000   \n",
       "max           0.541300           0.778300   0.778300   0.151000   1.000000   \n",
       "\n",
       "        positive  \n",
       "count  20.000000  \n",
       "mean    0.048050  \n",
       "std     0.060335  \n",
       "min     0.000000  \n",
       "25%     0.000000  \n",
       "50%     0.025500  \n",
       "75%     0.073000  \n",
       "max     0.191000  "
      ]
     },
     "execution_count": 14,
     "metadata": {},
     "output_type": "execute_result"
    }
   ],
   "source": [
    "ethereum_df.describe()"
   ]
  },
  {
   "cell_type": "code",
   "execution_count": 15,
   "metadata": {},
   "outputs": [
    {
     "name": "stdout",
     "output_type": "stream",
     "text": [
      "The max compound score for Ethereum is 0.7783\n",
      "The min compound score for Ethereum is -0.4588\n",
      "The max positive score for Ethereum is 0.191\n",
      "The min positive score for Ethereum is 0.0\n"
     ]
    }
   ],
   "source": [
    "print(f\"The max compound score for Ethereum is {ethereum_df['compound'].max()}\")\n",
    "print(f\"The min compound score for Ethereum is {ethereum_df['compound'].min()}\")\n",
    "\n",
    "print(f\"The max positive score for Ethereum is {ethereum_df['positive'].max()}\")\n",
    "print(f\"The min positive score for Ethereum is {ethereum_df['positive'].min()}\")"
   ]
  },
  {
   "cell_type": "code",
   "execution_count": 16,
   "metadata": {},
   "outputs": [],
   "source": [
    "# Describe the Bitcoin Sentiment\n",
    "# The Bitcoin sentiment is neutral with a slightly positive weighting, mean title sentiment at 0.023 and mean content sentiment at 0.179.\n",
    "# There appears to be a reasonable size difference in title vs content sentiment for BTC with content being more positive."
   ]
  },
  {
   "cell_type": "code",
   "execution_count": 17,
   "metadata": {},
   "outputs": [],
   "source": [
    "# Describe the Ethereum Sentiment\n",
    "# The Ethereum sentiment is also neutral with a slightly positive weighting, mean title sentiment at 0.103 and mean content sentiment at 0.110.\n",
    "# The content sentiment for Ethereum articles closely matches the title sentiment."
   ]
  },
  {
   "cell_type": "markdown",
   "metadata": {},
   "source": [
    "### Questions:\n",
    "\n",
    "Q: Which coin had the highest mean positive score?\n",
    "\n",
    "A: For content (text) BTC had highest mean positive sentiment score of 0.074800 (vs ETH at 0.048050)\n",
    "\n",
    "Q: Which coin had the highest compound score?\n",
    "\n",
    "A: For content (text) BTC had highest compound sentiment score of 0.8402 (vs ETH at 0.7783). Highest compound article was related to El Salvador making BTC legal tender.\n",
    "\n",
    "Q. Which coin had the highest positive score?\n",
    "\n",
    "A: For content (text) BTC had highest positive sentiment score of 0.282 (vs ETH at 0.191)"
   ]
  },
  {
   "cell_type": "markdown",
   "metadata": {},
   "source": [
    "---"
   ]
  },
  {
   "cell_type": "markdown",
   "metadata": {},
   "source": [
    "## 2. Natural Language Processing\n",
    "---\n",
    "###   Tokenizer\n",
    "\n",
    "In this section, you will use NLTK and Python to tokenize the text for each coin. Be sure to:\n",
    "1. Lowercase each word.\n",
    "2. Remove Punctuation.\n",
    "3. Remove Stopwords."
   ]
  },
  {
   "cell_type": "code",
   "execution_count": 34,
   "metadata": {},
   "outputs": [],
   "source": [
    "from nltk.tokenize import word_tokenize, sent_tokenize\n",
    "from nltk.corpus import stopwords\n",
    "from nltk.stem import WordNetLemmatizer, PorterStemmer\n",
    "from string import punctuation\n",
    "import re"
   ]
  },
  {
   "cell_type": "code",
   "execution_count": 35,
   "metadata": {},
   "outputs": [],
   "source": [
    "# Instantiate the lemmatizer\n",
    "lemmatizer = WordNetLemmatizer()\n",
    "\n",
    "# Create a list of stopwords\n",
    "sw = stopwords.words('english')\n",
    "\n",
    "# Expand the default stopwords list if necessary\n",
    "# No additions"
   ]
  },
  {
   "cell_type": "code",
   "execution_count": 36,
   "metadata": {},
   "outputs": [],
   "source": [
    "# Complete the tokenizer function\n",
    "def tokenizer(text):\n",
    "    \"\"\"Tokenizes text.\"\"\"\n",
    "    \n",
    "    # Remove the punctuation from text\n",
    "    regex = re.compile(\"[^a-zA-Z ]\")\n",
    "    re_clean = regex.sub('', text)\n",
    "\n",
    "    # Create a tokenized list of the words\n",
    "    words = word_tokenize(re_clean)\n",
    "    \n",
    "    # Lemmatize words into root words\n",
    "    lem_words = [lemmatizer.lemmatize(word) for word in words]\n",
    "   \n",
    "    # Convert the words to lowercase\n",
    "    tokens = [word.lower() for word in lem_words if word.lower() not in sw]\n",
    "    \n",
    "    # Remove the stop words - included in line above\n",
    "    \n",
    "    \n",
    "    return tokens"
   ]
  },
  {
   "cell_type": "code",
   "execution_count": 66,
   "metadata": {},
   "outputs": [
    {
     "data": {
      "text/html": [
       "<div>\n",
       "<style scoped>\n",
       "    .dataframe tbody tr th:only-of-type {\n",
       "        vertical-align: middle;\n",
       "    }\n",
       "\n",
       "    .dataframe tbody tr th {\n",
       "        vertical-align: top;\n",
       "    }\n",
       "\n",
       "    .dataframe thead th {\n",
       "        text-align: right;\n",
       "    }\n",
       "</style>\n",
       "<table border=\"1\" class=\"dataframe\">\n",
       "  <thead>\n",
       "    <tr style=\"text-align: right;\">\n",
       "      <th></th>\n",
       "      <th>compound</th>\n",
       "      <th>negative</th>\n",
       "      <th>neutral</th>\n",
       "      <th>positive</th>\n",
       "      <th>tokens</th>\n",
       "    </tr>\n",
       "  </thead>\n",
       "  <tbody>\n",
       "    <tr>\n",
       "      <th>0</th>\n",
       "      <td>0.8402</td>\n",
       "      <td>0.0</td>\n",
       "      <td>0.718</td>\n",
       "      <td>0.282</td>\n",
       "      <td>[el, salvadors, president, nayib, bu...</td>\n",
       "    </tr>\n",
       "    <tr>\n",
       "      <th>1</th>\n",
       "      <td>0.1280</td>\n",
       "      <td>0.0</td>\n",
       "      <td>0.957</td>\n",
       "      <td>0.043</td>\n",
       "      <td>[el, salvador, ha, become, first, co...</td>\n",
       "    </tr>\n",
       "    <tr>\n",
       "      <th>2</th>\n",
       "      <td>0.6908</td>\n",
       "      <td>0.0</td>\n",
       "      <td>0.831</td>\n",
       "      <td>0.169</td>\n",
       "      <td>[clean, energy, seemselon, musk, tes...</td>\n",
       "    </tr>\n",
       "    <tr>\n",
       "      <th>3</th>\n",
       "      <td>0.2732</td>\n",
       "      <td>0.0</td>\n",
       "      <td>0.940</td>\n",
       "      <td>0.060</td>\n",
       "      <td>[image, captionthe, move, mean, bitc...</td>\n",
       "    </tr>\n",
       "    <tr>\n",
       "      <th>4</th>\n",
       "      <td>0.5574</td>\n",
       "      <td>0.0</td>\n",
       "      <td>0.893</td>\n",
       "      <td>0.107</td>\n",
       "      <td>[several, crypto, fan, descended, mi...</td>\n",
       "    </tr>\n",
       "  </tbody>\n",
       "</table>\n",
       "</div>"
      ],
      "text/plain": [
       "   compound  negative  neutral  positive  \\\n",
       "0    0.8402       0.0    0.718     0.282   \n",
       "1    0.1280       0.0    0.957     0.043   \n",
       "2    0.6908       0.0    0.831     0.169   \n",
       "3    0.2732       0.0    0.940     0.060   \n",
       "4    0.5574       0.0    0.893     0.107   \n",
       "\n",
       "                                    tokens  \n",
       "0  [el, salvadors, president, nayib, bu...  \n",
       "1  [el, salvador, ha, become, first, co...  \n",
       "2  [clean, energy, seemselon, musk, tes...  \n",
       "3  [image, captionthe, move, mean, bitc...  \n",
       "4  [several, crypto, fan, descended, mi...  "
      ]
     },
     "execution_count": 66,
     "metadata": {},
     "output_type": "execute_result"
    }
   ],
   "source": [
    "# Create a new tokens column for Bitcoin\n",
    "btc_df['tokens'] = np.nan\n",
    "\n",
    "btc_texts = btc_df['content']\n",
    "\n",
    "tokens = []\n",
    "for text in btc_texts:\n",
    "    tokens.append(tokenizer(text))\n",
    "\n",
    "btc_df['tokens'] = tokens\n",
    "btc_df.drop(columns = 'title', inplace=True)\n",
    "btc_df.drop(columns = 'content', inplace=True)\n",
    "btc_df.drop(columns = 'title_sentiment', inplace=True)\n",
    "btc_df.drop(columns = 'content_sentiment', inplace=True)\n",
    "btc_df.head(5)"
   ]
  },
  {
   "cell_type": "code",
   "execution_count": 51,
   "metadata": {},
   "outputs": [
    {
     "data": {
      "text/html": [
       "<div>\n",
       "<style scoped>\n",
       "    .dataframe tbody tr th:only-of-type {\n",
       "        vertical-align: middle;\n",
       "    }\n",
       "\n",
       "    .dataframe tbody tr th {\n",
       "        vertical-align: top;\n",
       "    }\n",
       "\n",
       "    .dataframe thead th {\n",
       "        text-align: right;\n",
       "    }\n",
       "</style>\n",
       "<table border=\"1\" class=\"dataframe\">\n",
       "  <thead>\n",
       "    <tr style=\"text-align: right;\">\n",
       "      <th></th>\n",
       "      <th>compound</th>\n",
       "      <th>negative</th>\n",
       "      <th>neutral</th>\n",
       "      <th>positive</th>\n",
       "      <th>tokens</th>\n",
       "    </tr>\n",
       "  </thead>\n",
       "  <tbody>\n",
       "    <tr>\n",
       "      <th>0</th>\n",
       "      <td>0.000</td>\n",
       "      <td>0.000</td>\n",
       "      <td>1.000</td>\n",
       "      <td>0.0</td>\n",
       "      <td>[tldr, cryptocurrency, ethereum, sol...</td>\n",
       "    </tr>\n",
       "    <tr>\n",
       "      <th>1</th>\n",
       "      <td>-0.296</td>\n",
       "      <td>0.061</td>\n",
       "      <td>0.939</td>\n",
       "      <td>0.0</td>\n",
       "      <td>[wasnt, long, ago, average, person, ...</td>\n",
       "    </tr>\n",
       "    <tr>\n",
       "      <th>2</th>\n",
       "      <td>0.000</td>\n",
       "      <td>0.000</td>\n",
       "      <td>1.000</td>\n",
       "      <td>0.0</td>\n",
       "      <td>[representation, virtual, currency, ...</td>\n",
       "    </tr>\n",
       "    <tr>\n",
       "      <th>3</th>\n",
       "      <td>-0.340</td>\n",
       "      <td>0.066</td>\n",
       "      <td>0.934</td>\n",
       "      <td>0.0</td>\n",
       "      <td>[article, wa, translated, spanish, e...</td>\n",
       "    </tr>\n",
       "    <tr>\n",
       "      <th>4</th>\n",
       "      <td>0.000</td>\n",
       "      <td>0.000</td>\n",
       "      <td>1.000</td>\n",
       "      <td>0.0</td>\n",
       "      <td>[new, mining, feature, called, norto...</td>\n",
       "    </tr>\n",
       "  </tbody>\n",
       "</table>\n",
       "</div>"
      ],
      "text/plain": [
       "   compound  negative  neutral  positive  \\\n",
       "0     0.000     0.000    1.000       0.0   \n",
       "1    -0.296     0.061    0.939       0.0   \n",
       "2     0.000     0.000    1.000       0.0   \n",
       "3    -0.340     0.066    0.934       0.0   \n",
       "4     0.000     0.000    1.000       0.0   \n",
       "\n",
       "                                    tokens  \n",
       "0  [tldr, cryptocurrency, ethereum, sol...  \n",
       "1  [wasnt, long, ago, average, person, ...  \n",
       "2  [representation, virtual, currency, ...  \n",
       "3  [article, wa, translated, spanish, e...  \n",
       "4  [new, mining, feature, called, norto...  "
      ]
     },
     "execution_count": 51,
     "metadata": {},
     "output_type": "execute_result"
    }
   ],
   "source": [
    "# Create a new tokens column for Ethereum\n",
    "ethereum_df['tokens'] = np.nan\n",
    "\n",
    "eth_texts = ethereum_df['content']\n",
    "\n",
    "tokens = []\n",
    "for text in eth_texts:\n",
    "    tokens.append(tokenizer(text))\n",
    "\n",
    "ethereum_df['tokens'] = tokens\n",
    "ethereum_df.drop(columns = 'title', inplace=True)\n",
    "ethereum_df.drop(columns = 'content', inplace=True)\n",
    "ethereum_df.drop(columns = 'title_sentiment', inplace=True)\n",
    "ethereum_df.drop(columns = 'content_sentiment', inplace=True)\n",
    "ethereum_df.head(5)"
   ]
  },
  {
   "cell_type": "code",
   "execution_count": 88,
   "metadata": {},
   "outputs": [
    {
     "data": {
      "text/plain": [
       "'0     [tldr, cryptocurrency, ethereum, sol...\\n1     [wasnt, long, ago, average, person, ...\\n2     [representation, virtual, currency, ...\\n3     [article, wa, translated, spanish, e...\\n4     [new, mining, feature, called, norto...\\n5     [building, team, page, declares, sta...\\n6     [opinions, expressed, entrepreneur, ...\\n7     [cryptopunks, represent, historicall...\\n8     [cristina, criddletechnology, report...\\n9     [march, blockchain, protocol, solana...\\n10    [sir, tim, bernerslee, credited, inv...\\n11    [steven, ferdmangetty, imagesbillion...\\n12    [two, ethereumbased, protocol, keep,...\\n13    [youve, likely, seen, headline, surr...\\n14    [along, stock, market, cryptocurrenc...\\n15    [yao, qian, former, head, chinas, di...\\n16    [visual, representation, digital, cr...\\n17    [disclosure, goal, feature, product,...\\n18    [consumer, us, digital, yuan, red, e...\\n19    [bitcoin, ethereum, price, making, c...\\nName: tokens, dtype: object'"
      ]
     },
     "execution_count": 88,
     "metadata": {},
     "output_type": "execute_result"
    }
   ],
   "source": [
    "btc_str = str(btc_df['tokens'])\n",
    "btc_str = ''.join(btc_str)\n",
    "btc_str\n",
    "\n",
    "eth_str = str(ethereum_df['tokens'])\n",
    "eth_str = ''.join(eth_str)\n",
    "eth_str"
   ]
  },
  {
   "cell_type": "code",
   "execution_count": 89,
   "metadata": {},
   "outputs": [],
   "source": [
    "btc_str = tokenizer(btc_str)\n",
    "eth_str = tokenizer(eth_str)"
   ]
  },
  {
   "cell_type": "markdown",
   "metadata": {},
   "source": [
    "---"
   ]
  },
  {
   "cell_type": "markdown",
   "metadata": {},
   "source": [
    "### NGrams and Frequency Analysis\n",
    "\n",
    "In this section you will look at the ngrams and word frequency for each coin. \n",
    "\n",
    "1. Use NLTK to produce the n-grams for N = 2. \n",
    "2. List the top 10 words for each coin. "
   ]
  },
  {
   "cell_type": "code",
   "execution_count": 39,
   "metadata": {},
   "outputs": [],
   "source": [
    "from collections import Counter\n",
    "from nltk import ngrams"
   ]
  },
  {
   "cell_type": "code",
   "execution_count": 104,
   "metadata": {},
   "outputs": [
    {
     "ename": "AttributeError",
     "evalue": "'DataFrame' object has no attribute 'text'",
     "output_type": "error",
     "traceback": [
      "\u001b[1;31m---------------------------------------------------------------------------\u001b[0m",
      "\u001b[1;31mAttributeError\u001b[0m                            Traceback (most recent call last)",
      "\u001b[1;32m<ipython-input-104-4e64eca6c79b>\u001b[0m in \u001b[0;36m<module>\u001b[1;34m\u001b[0m\n\u001b[0;32m      1\u001b[0m \u001b[0mN\u001b[0m\u001b[1;33m=\u001b[0m\u001b[1;36m2\u001b[0m\u001b[1;33m\u001b[0m\u001b[1;33m\u001b[0m\u001b[0m\n\u001b[1;32m----> 2\u001b[1;33m \u001b[0mgrams\u001b[0m\u001b[1;33m=\u001b[0m\u001b[0mngrams\u001b[0m\u001b[1;33m(\u001b[0m\u001b[0mtokenizer\u001b[0m\u001b[1;33m(\u001b[0m\u001b[0mbtc_df\u001b[0m\u001b[1;33m.\u001b[0m\u001b[0mtext\u001b[0m\u001b[1;33m.\u001b[0m\u001b[0mstr\u001b[0m\u001b[1;33m.\u001b[0m\u001b[0mcat\u001b[0m\u001b[1;33m(\u001b[0m\u001b[1;33m)\u001b[0m\u001b[1;33m)\u001b[0m\u001b[1;33m,\u001b[0m\u001b[0mN\u001b[0m\u001b[1;33m)\u001b[0m\u001b[1;33m\u001b[0m\u001b[1;33m\u001b[0m\u001b[0m\n\u001b[0m\u001b[0;32m      3\u001b[0m \u001b[0mCounter\u001b[0m\u001b[1;33m(\u001b[0m\u001b[0mgrams\u001b[0m\u001b[1;33m)\u001b[0m\u001b[1;33m.\u001b[0m\u001b[0mmost_common\u001b[0m\u001b[1;33m(\u001b[0m\u001b[1;36m10\u001b[0m\u001b[1;33m)\u001b[0m\u001b[1;33m\u001b[0m\u001b[1;33m\u001b[0m\u001b[0m\n",
      "\u001b[1;32m~\\anaconda3\\envs\\dev\\lib\\site-packages\\pandas\\core\\generic.py\u001b[0m in \u001b[0;36m__getattr__\u001b[1;34m(self, name)\u001b[0m\n\u001b[0;32m   5137\u001b[0m             \u001b[1;32mif\u001b[0m \u001b[0mself\u001b[0m\u001b[1;33m.\u001b[0m\u001b[0m_info_axis\u001b[0m\u001b[1;33m.\u001b[0m\u001b[0m_can_hold_identifiers_and_holds_name\u001b[0m\u001b[1;33m(\u001b[0m\u001b[0mname\u001b[0m\u001b[1;33m)\u001b[0m\u001b[1;33m:\u001b[0m\u001b[1;33m\u001b[0m\u001b[1;33m\u001b[0m\u001b[0m\n\u001b[0;32m   5138\u001b[0m                 \u001b[1;32mreturn\u001b[0m \u001b[0mself\u001b[0m\u001b[1;33m[\u001b[0m\u001b[0mname\u001b[0m\u001b[1;33m]\u001b[0m\u001b[1;33m\u001b[0m\u001b[1;33m\u001b[0m\u001b[0m\n\u001b[1;32m-> 5139\u001b[1;33m             \u001b[1;32mreturn\u001b[0m \u001b[0mobject\u001b[0m\u001b[1;33m.\u001b[0m\u001b[0m__getattribute__\u001b[0m\u001b[1;33m(\u001b[0m\u001b[0mself\u001b[0m\u001b[1;33m,\u001b[0m \u001b[0mname\u001b[0m\u001b[1;33m)\u001b[0m\u001b[1;33m\u001b[0m\u001b[1;33m\u001b[0m\u001b[0m\n\u001b[0m\u001b[0;32m   5140\u001b[0m \u001b[1;33m\u001b[0m\u001b[0m\n\u001b[0;32m   5141\u001b[0m     \u001b[1;32mdef\u001b[0m \u001b[0m__setattr__\u001b[0m\u001b[1;33m(\u001b[0m\u001b[0mself\u001b[0m\u001b[1;33m,\u001b[0m \u001b[0mname\u001b[0m\u001b[1;33m:\u001b[0m \u001b[0mstr\u001b[0m\u001b[1;33m,\u001b[0m \u001b[0mvalue\u001b[0m\u001b[1;33m)\u001b[0m \u001b[1;33m->\u001b[0m \u001b[1;32mNone\u001b[0m\u001b[1;33m:\u001b[0m\u001b[1;33m\u001b[0m\u001b[1;33m\u001b[0m\u001b[0m\n",
      "\u001b[1;31mAttributeError\u001b[0m: 'DataFrame' object has no attribute 'text'"
     ]
    }
   ],
   "source": [
    "N=2\n",
    "grams=ngrams(tokenizer(btc_df.text.str.cat()),N)\n",
    "Counter(grams).most_common(10)"
   ]
  },
  {
   "cell_type": "code",
   "execution_count": 90,
   "metadata": {},
   "outputs": [
    {
     "data": {
      "text/plain": [
       "[(('el', 'salvador'), 4),\n",
       " (('june', 'reuters'), 3),\n",
       " (('reuters', 'el'), 3),\n",
       " (('welcome', 'back'), 2),\n",
       " (('london', 'june'), 2),\n",
       " (('salvador', 'president'), 1),\n",
       " (('president', 'nayib'), 1),\n",
       " (('nayib', 'bu'), 1),\n",
       " (('bu', 'el'), 1),\n",
       " (('salvador', 'ha'), 1),\n",
       " (('ha', 'become'), 1),\n",
       " (('become', 'first'), 1),\n",
       " (('first', 'co'), 1),\n",
       " (('co', 'clean'), 1),\n",
       " (('clean', 'energy'), 1),\n",
       " (('energy', 'seemselon'), 1),\n",
       " (('seemselon', 'musk'), 1),\n",
       " (('musk', 'te'), 1),\n",
       " (('te', 'image'), 1),\n",
       " (('image', 'captionthe'), 1),\n",
       " (('captionthe', 'move'), 1),\n",
       " (('move', 'mean'), 1),\n",
       " (('mean', 'bitc'), 1),\n",
       " (('bitc', 'several'), 1),\n",
       " (('several', 'crypto'), 1),\n",
       " (('crypto', 'fan'), 1),\n",
       " (('fan', 'descended'), 1),\n",
       " (('descended', 'mi'), 1),\n",
       " (('mi', 'hello'), 1),\n",
       " (('hello', 'friend'), 1),\n",
       " (('friend', 'welcome'), 1),\n",
       " (('back', 'week'), 1),\n",
       " (('week', 'spite'), 1),\n",
       " (('spite', 'environmental'), 1),\n",
       " (('environmental', 'regulatory'), 1),\n",
       " (('regulatory', 'maryann'), 1),\n",
       " (('maryann', 'russonbusiness'), 1),\n",
       " (('russonbusiness', 'reporter'), 1),\n",
       " (('reporter', 'ban'), 1),\n",
       " (('ban', 'affect'), 1),\n",
       " (('affect', 'licensed'), 1),\n",
       " (('licensed', 'unlicensed'), 1),\n",
       " (('unlicensed', 'year'), 1),\n",
       " (('year', 'hesitation'), 1),\n",
       " (('hesitation', 'paypal'), 1),\n",
       " (('paypal', 'continues'), 1),\n",
       " (('continues', 'san'), 1),\n",
       " (('san', 'salvador'), 1),\n",
       " (('salvador', 'june'), 1),\n",
       " (('el', 'london'), 1),\n",
       " (('salvador', 'london'), 1),\n",
       " (('salvador', 'reuters'), 1),\n",
       " (('reuters', 'staffsan'), 1),\n",
       " (('staffsan', 'salvador'), 1),\n",
       " (('salvador', 'reuter'), 1),\n",
       " (('reuter', 'representation'), 1),\n",
       " (('representation', 'virtual'), 1),\n",
       " (('virtual', 'currency'), 1),\n",
       " (('currency', 'colonial'), 1),\n",
       " (('colonial', 'pipeline'), 1),\n",
       " (('pipeline', 'biggest'), 1),\n",
       " (('biggest', 'recent'), 1),\n",
       " (('recent', 'bitcoin'), 1),\n",
       " (('bitcoin', 'sign'), 1),\n",
       " (('sign', 'held'), 1),\n",
       " (('held', 'outside'), 1),\n",
       " (('outside', 'hong'), 1),\n",
       " (('hong', 'along'), 1),\n",
       " (('along', 'stock'), 1),\n",
       " (('stock', 'market'), 1),\n",
       " (('market', 'cryptocurrenc'), 1),\n",
       " (('cryptocurrenc', 'hello'), 1),\n",
       " (('hello', 'welcome'), 1),\n",
       " (('back', 'toequity'), 1),\n",
       " (('toequity', 'tec'), 1),\n",
       " (('tec', 'story'), 1),\n",
       " (('story', 'originally'), 1),\n",
       " (('originally', 'appeared'), 1),\n",
       " (('appeared', 'marketname'), 1),\n",
       " (('marketname', 'token'), 1),\n",
       " (('token', 'dtype'), 1),\n",
       " (('dtype', 'object'), 1)]"
      ]
     },
     "execution_count": 90,
     "metadata": {},
     "output_type": "execute_result"
    }
   ],
   "source": [
    "# Generate the Bitcoin N-grams where N=2   \n",
    "btc_ngram = Counter(ngrams(btc_str,n=2)).most_common()\n",
    "btc_ngram"
   ]
  },
  {
   "cell_type": "code",
   "execution_count": 91,
   "metadata": {},
   "outputs": [
    {
     "data": {
      "text/plain": [
       "[(('tldr', 'cryptocurrency'), 1),\n",
       " (('cryptocurrency', 'ethereum'), 1),\n",
       " (('ethereum', 'sol'), 1),\n",
       " (('sol', 'wasnt'), 1),\n",
       " (('wasnt', 'long'), 1),\n",
       " (('long', 'ago'), 1),\n",
       " (('ago', 'average'), 1),\n",
       " (('average', 'person'), 1),\n",
       " (('person', 'representation'), 1),\n",
       " (('representation', 'virtual'), 1),\n",
       " (('virtual', 'currency'), 1),\n",
       " (('currency', 'article'), 1),\n",
       " (('article', 'wa'), 1),\n",
       " (('wa', 'translated'), 1),\n",
       " (('translated', 'spanish'), 1),\n",
       " (('spanish', 'e'), 1),\n",
       " (('e', 'new'), 1),\n",
       " (('new', 'mining'), 1),\n",
       " (('mining', 'feature'), 1),\n",
       " (('feature', 'called'), 1),\n",
       " (('called', 'norto'), 1),\n",
       " (('norto', 'building'), 1),\n",
       " (('building', 'team'), 1),\n",
       " (('team', 'page'), 1),\n",
       " (('page', 'declares'), 1),\n",
       " (('declares', 'sta'), 1),\n",
       " (('sta', 'opinion'), 1),\n",
       " (('opinion', 'expressed'), 1),\n",
       " (('expressed', 'entrepreneur'), 1),\n",
       " (('entrepreneur', 'cryptopunks'), 1),\n",
       " (('cryptopunks', 'represent'), 1),\n",
       " (('represent', 'historicall'), 1),\n",
       " (('historicall', 'cristina'), 1),\n",
       " (('cristina', 'criddletechnology'), 1),\n",
       " (('criddletechnology', 'report'), 1),\n",
       " (('report', 'march'), 1),\n",
       " (('march', 'blockchain'), 1),\n",
       " (('blockchain', 'protocol'), 1),\n",
       " (('protocol', 'solana'), 1),\n",
       " (('solana', 'sir'), 1),\n",
       " (('sir', 'tim'), 1),\n",
       " (('tim', 'bernerslee'), 1),\n",
       " (('bernerslee', 'credited'), 1),\n",
       " (('credited', 'inv'), 1),\n",
       " (('inv', 'steven'), 1),\n",
       " (('steven', 'ferdmangetty'), 1),\n",
       " (('ferdmangetty', 'imagesbillion'), 1),\n",
       " (('imagesbillion', 'two'), 1),\n",
       " (('two', 'ethereumbased'), 1),\n",
       " (('ethereumbased', 'protocol'), 1),\n",
       " (('protocol', 'keep'), 1),\n",
       " (('keep', 'youve'), 1),\n",
       " (('youve', 'likely'), 1),\n",
       " (('likely', 'seen'), 1),\n",
       " (('seen', 'headline'), 1),\n",
       " (('headline', 'surr'), 1),\n",
       " (('surr', 'along'), 1),\n",
       " (('along', 'stock'), 1),\n",
       " (('stock', 'market'), 1),\n",
       " (('market', 'cryptocurrenc'), 1),\n",
       " (('cryptocurrenc', 'yao'), 1),\n",
       " (('yao', 'qian'), 1),\n",
       " (('qian', 'former'), 1),\n",
       " (('former', 'head'), 1),\n",
       " (('head', 'china'), 1),\n",
       " (('china', 'di'), 1),\n",
       " (('di', 'visual'), 1),\n",
       " (('visual', 'representation'), 1),\n",
       " (('representation', 'digital'), 1),\n",
       " (('digital', 'cr'), 1),\n",
       " (('cr', 'disclosure'), 1),\n",
       " (('disclosure', 'goal'), 1),\n",
       " (('goal', 'feature'), 1),\n",
       " (('feature', 'product'), 1),\n",
       " (('product', 'consumer'), 1),\n",
       " (('consumer', 'u'), 1),\n",
       " (('u', 'digital'), 1),\n",
       " (('digital', 'yuan'), 1),\n",
       " (('yuan', 'red'), 1),\n",
       " (('red', 'e'), 1),\n",
       " (('e', 'bitcoin'), 1),\n",
       " (('bitcoin', 'ethereum'), 1),\n",
       " (('ethereum', 'price'), 1),\n",
       " (('price', 'making'), 1),\n",
       " (('making', 'cname'), 1),\n",
       " (('cname', 'token'), 1),\n",
       " (('token', 'dtype'), 1),\n",
       " (('dtype', 'object'), 1)]"
      ]
     },
     "execution_count": 91,
     "metadata": {},
     "output_type": "execute_result"
    }
   ],
   "source": [
    "# Generate the Ethereum N-grams where N=2\n",
    "eth_ngram = Counter(ngrams(eth_str,n=2)).most_common()\n",
    "eth_ngram"
   ]
  },
  {
   "cell_type": "code",
   "execution_count": 92,
   "metadata": {},
   "outputs": [],
   "source": [
    "# Function token_count generates the top 10 words for a given coin\n",
    "def token_count(tokens, N=3):\n",
    "    \"\"\"Returns the top N tokens from the frequency count\"\"\"\n",
    "    return Counter(tokens).most_common(N)"
   ]
  },
  {
   "cell_type": "code",
   "execution_count": 97,
   "metadata": {},
   "outputs": [
    {
     "data": {
      "text/plain": [
       "[('salvador', 6), ('el', 5), ('reuters', 4)]"
      ]
     },
     "execution_count": 97,
     "metadata": {},
     "output_type": "execute_result"
    }
   ],
   "source": [
    "# Use token_count to get the top 10 words for Bitcoin\n",
    "token_count(btc_str)"
   ]
  },
  {
   "cell_type": "code",
   "execution_count": 94,
   "metadata": {},
   "outputs": [
    {
     "data": {
      "text/plain": [
       "[('salvador', 6), ('el', 5), ('reuters', 4)]"
      ]
     },
     "execution_count": 94,
     "metadata": {},
     "output_type": "execute_result"
    }
   ],
   "source": [
    "# Use token_count to get the top 10 words for Ethereum\n",
    "token_count(btc_str)"
   ]
  },
  {
   "cell_type": "markdown",
   "metadata": {},
   "source": [
    "---"
   ]
  },
  {
   "cell_type": "markdown",
   "metadata": {},
   "source": [
    "### Word Clouds\n",
    "\n",
    "In this section, you will generate word clouds for each coin to summarize the news for each coin"
   ]
  },
  {
   "cell_type": "code",
   "execution_count": 98,
   "metadata": {},
   "outputs": [],
   "source": [
    "from wordcloud import WordCloud\n",
    "import matplotlib.pyplot as plt\n",
    "plt.style.use('seaborn-whitegrid')\n",
    "import matplotlib as mpl\n",
    "mpl.rcParams['figure.figsize'] = [20.0, 10.0]"
   ]
  },
  {
   "cell_type": "code",
   "execution_count": 99,
   "metadata": {},
   "outputs": [
    {
     "ename": "TypeError",
     "evalue": "'Series' object is not callable",
     "output_type": "error",
     "traceback": [
      "\u001b[1;31m---------------------------------------------------------------------------\u001b[0m",
      "\u001b[1;31mTypeError\u001b[0m                                 Traceback (most recent call last)",
      "\u001b[1;32m<ipython-input-99-94f08f814549>\u001b[0m in \u001b[0;36m<module>\u001b[1;34m\u001b[0m\n\u001b[1;32m----> 1\u001b[1;33m \u001b[0mcorpus\u001b[0m \u001b[1;33m=\u001b[0m \u001b[1;33m[\u001b[0m\u001b[0mbtc_df\u001b[0m\u001b[1;33m[\u001b[0m\u001b[1;34m'tokens'\u001b[0m\u001b[1;33m]\u001b[0m\u001b[1;33m(\u001b[0m\u001b[0mtext\u001b[0m\u001b[1;33m)\u001b[0m \u001b[1;32mfor\u001b[0m \u001b[0mtext\u001b[0m \u001b[1;32min\u001b[0m \u001b[0mtexts\u001b[0m\u001b[1;33m]\u001b[0m\u001b[1;33m\u001b[0m\u001b[1;33m\u001b[0m\u001b[0m\n\u001b[0m\u001b[0;32m      2\u001b[0m \u001b[0mbig_str\u001b[0m \u001b[1;33m=\u001b[0m \u001b[1;34m' '\u001b[0m\u001b[1;33m.\u001b[0m\u001b[0mjoin\u001b[0m\u001b[1;33m(\u001b[0m\u001b[0mcorpus\u001b[0m\u001b[1;33m)\u001b[0m\u001b[1;33m\u001b[0m\u001b[1;33m\u001b[0m\u001b[0m\n\u001b[0;32m      3\u001b[0m \u001b[0mprocessed_topic\u001b[0m \u001b[1;33m=\u001b[0m \u001b[1;34m' '\u001b[0m\u001b[1;33m.\u001b[0m\u001b[0mjoin\u001b[0m\u001b[1;33m(\u001b[0m\u001b[0mprocess_text\u001b[0m\u001b[1;33m(\u001b[0m\u001b[0mbig_str\u001b[0m\u001b[1;33m)\u001b[0m\u001b[1;33m)\u001b[0m\u001b[1;33m\u001b[0m\u001b[1;33m\u001b[0m\u001b[0m\n",
      "\u001b[1;32m<ipython-input-99-94f08f814549>\u001b[0m in \u001b[0;36m<listcomp>\u001b[1;34m(.0)\u001b[0m\n\u001b[1;32m----> 1\u001b[1;33m \u001b[0mcorpus\u001b[0m \u001b[1;33m=\u001b[0m \u001b[1;33m[\u001b[0m\u001b[0mbtc_df\u001b[0m\u001b[1;33m[\u001b[0m\u001b[1;34m'tokens'\u001b[0m\u001b[1;33m]\u001b[0m\u001b[1;33m(\u001b[0m\u001b[0mtext\u001b[0m\u001b[1;33m)\u001b[0m \u001b[1;32mfor\u001b[0m \u001b[0mtext\u001b[0m \u001b[1;32min\u001b[0m \u001b[0mtexts\u001b[0m\u001b[1;33m]\u001b[0m\u001b[1;33m\u001b[0m\u001b[1;33m\u001b[0m\u001b[0m\n\u001b[0m\u001b[0;32m      2\u001b[0m \u001b[0mbig_str\u001b[0m \u001b[1;33m=\u001b[0m \u001b[1;34m' '\u001b[0m\u001b[1;33m.\u001b[0m\u001b[0mjoin\u001b[0m\u001b[1;33m(\u001b[0m\u001b[0mcorpus\u001b[0m\u001b[1;33m)\u001b[0m\u001b[1;33m\u001b[0m\u001b[1;33m\u001b[0m\u001b[0m\n\u001b[0;32m      3\u001b[0m \u001b[0mprocessed_topic\u001b[0m \u001b[1;33m=\u001b[0m \u001b[1;34m' '\u001b[0m\u001b[1;33m.\u001b[0m\u001b[0mjoin\u001b[0m\u001b[1;33m(\u001b[0m\u001b[0mprocess_text\u001b[0m\u001b[1;33m(\u001b[0m\u001b[0mbig_str\u001b[0m\u001b[1;33m)\u001b[0m\u001b[1;33m)\u001b[0m\u001b[1;33m\u001b[0m\u001b[1;33m\u001b[0m\u001b[0m\n",
      "\u001b[1;31mTypeError\u001b[0m: 'Series' object is not callable"
     ]
    }
   ],
   "source": [
    "corpus = [btc_df['tokens'](text) for text in texts]\n",
    "big_str = ' '.join(corpus)\n",
    "processed_topic = ' '.join(process_text(big_str))"
   ]
  },
  {
   "cell_type": "code",
   "execution_count": null,
   "metadata": {},
   "outputs": [],
   "source": []
  },
  {
   "cell_type": "code",
   "execution_count": null,
   "metadata": {},
   "outputs": [],
   "source": [
    "# Generate the Bitcoin word cloud\n",
    "wc = WordCloud().generate(processed_topic)\n",
    "plt.imshow(wc)"
   ]
  },
  {
   "cell_type": "code",
   "execution_count": null,
   "metadata": {},
   "outputs": [],
   "source": [
    "# Generate the Ethereum word cloud\n",
    "# YOUR CODE HERE!"
   ]
  },
  {
   "cell_type": "markdown",
   "metadata": {},
   "source": [
    "---\n",
    "## 3. Named Entity Recognition\n",
    "\n",
    "In this section, you will build a named entity recognition model for both Bitcoin and Ethereum, then visualize the tags using SpaCy."
   ]
  },
  {
   "cell_type": "code",
   "execution_count": null,
   "metadata": {},
   "outputs": [],
   "source": [
    "import spacy\n",
    "from spacy import displacy"
   ]
  },
  {
   "cell_type": "code",
   "execution_count": null,
   "metadata": {},
   "outputs": [],
   "source": [
    "# Download the language model for SpaCy\n",
    "# !python -m spacy download en_core_web_sm"
   ]
  },
  {
   "cell_type": "code",
   "execution_count": null,
   "metadata": {},
   "outputs": [],
   "source": [
    "# Load the spaCy model\n",
    "nlp = spacy.load('en_core_web_sm')"
   ]
  },
  {
   "cell_type": "markdown",
   "metadata": {},
   "source": [
    "---\n",
    "### Bitcoin NER"
   ]
  },
  {
   "cell_type": "code",
   "execution_count": 65,
   "metadata": {},
   "outputs": [
    {
     "ename": "TypeError",
     "evalue": "first argument must be an iterable of pandas objects, you passed an object of type \"Series\"",
     "output_type": "error",
     "traceback": [
      "\u001b[1;31m---------------------------------------------------------------------------\u001b[0m",
      "\u001b[1;31mTypeError\u001b[0m                                 Traceback (most recent call last)",
      "\u001b[1;32m<ipython-input-65-d85fda0ed6e3>\u001b[0m in \u001b[0;36m<module>\u001b[1;34m\u001b[0m\n\u001b[0;32m      1\u001b[0m \u001b[1;31m# Concatenate all of the Bitcoin text together\u001b[0m\u001b[1;33m\u001b[0m\u001b[1;33m\u001b[0m\u001b[1;33m\u001b[0m\u001b[0m\n\u001b[1;32m----> 2\u001b[1;33m \u001b[0mpd\u001b[0m\u001b[1;33m.\u001b[0m\u001b[0mconcat\u001b[0m\u001b[1;33m(\u001b[0m\u001b[0mbtc_df\u001b[0m\u001b[1;33m[\u001b[0m\u001b[1;34m'content'\u001b[0m\u001b[1;33m]\u001b[0m\u001b[1;33m)\u001b[0m\u001b[1;33m\u001b[0m\u001b[1;33m\u001b[0m\u001b[0m\n\u001b[0m",
      "\u001b[1;32m~\\anaconda3\\envs\\dev\\lib\\site-packages\\pandas\\core\\reshape\\concat.py\u001b[0m in \u001b[0;36mconcat\u001b[1;34m(objs, axis, join, ignore_index, keys, levels, names, verify_integrity, sort, copy)\u001b[0m\n\u001b[0;32m    282\u001b[0m         \u001b[0mverify_integrity\u001b[0m\u001b[1;33m=\u001b[0m\u001b[0mverify_integrity\u001b[0m\u001b[1;33m,\u001b[0m\u001b[1;33m\u001b[0m\u001b[1;33m\u001b[0m\u001b[0m\n\u001b[0;32m    283\u001b[0m         \u001b[0mcopy\u001b[0m\u001b[1;33m=\u001b[0m\u001b[0mcopy\u001b[0m\u001b[1;33m,\u001b[0m\u001b[1;33m\u001b[0m\u001b[1;33m\u001b[0m\u001b[0m\n\u001b[1;32m--> 284\u001b[1;33m         \u001b[0msort\u001b[0m\u001b[1;33m=\u001b[0m\u001b[0msort\u001b[0m\u001b[1;33m,\u001b[0m\u001b[1;33m\u001b[0m\u001b[1;33m\u001b[0m\u001b[0m\n\u001b[0m\u001b[0;32m    285\u001b[0m     )\n\u001b[0;32m    286\u001b[0m \u001b[1;33m\u001b[0m\u001b[0m\n",
      "\u001b[1;32m~\\anaconda3\\envs\\dev\\lib\\site-packages\\pandas\\core\\reshape\\concat.py\u001b[0m in \u001b[0;36m__init__\u001b[1;34m(self, objs, axis, join, keys, levels, names, ignore_index, verify_integrity, copy, sort)\u001b[0m\n\u001b[0;32m    308\u001b[0m         \u001b[1;32mif\u001b[0m \u001b[0misinstance\u001b[0m\u001b[1;33m(\u001b[0m\u001b[0mobjs\u001b[0m\u001b[1;33m,\u001b[0m \u001b[1;33m(\u001b[0m\u001b[0mABCSeries\u001b[0m\u001b[1;33m,\u001b[0m \u001b[0mABCDataFrame\u001b[0m\u001b[1;33m,\u001b[0m \u001b[0mstr\u001b[0m\u001b[1;33m)\u001b[0m\u001b[1;33m)\u001b[0m\u001b[1;33m:\u001b[0m\u001b[1;33m\u001b[0m\u001b[1;33m\u001b[0m\u001b[0m\n\u001b[0;32m    309\u001b[0m             raise TypeError(\n\u001b[1;32m--> 310\u001b[1;33m                 \u001b[1;34m\"first argument must be an iterable of pandas \"\u001b[0m\u001b[1;33m\u001b[0m\u001b[1;33m\u001b[0m\u001b[0m\n\u001b[0m\u001b[0;32m    311\u001b[0m                 \u001b[1;34mf'objects, you passed an object of type \"{type(objs).__name__}\"'\u001b[0m\u001b[1;33m\u001b[0m\u001b[1;33m\u001b[0m\u001b[0m\n\u001b[0;32m    312\u001b[0m             )\n",
      "\u001b[1;31mTypeError\u001b[0m: first argument must be an iterable of pandas objects, you passed an object of type \"Series\""
     ]
    }
   ],
   "source": [
    "# Concatenate all of the Bitcoin text together\n",
    "#pd.concat(btc_df['content'])"
   ]
  },
  {
   "cell_type": "code",
   "execution_count": null,
   "metadata": {},
   "outputs": [],
   "source": [
    "# Run the NER processor on all of the text\n",
    "# YOUR CODE HERE!\n",
    "\n",
    "# Add a title to the document\n",
    "# YOUR CODE HERE!"
   ]
  },
  {
   "cell_type": "code",
   "execution_count": null,
   "metadata": {},
   "outputs": [],
   "source": [
    "# Render the visualization\n",
    "# YOUR CODE HERE!"
   ]
  },
  {
   "cell_type": "code",
   "execution_count": null,
   "metadata": {},
   "outputs": [],
   "source": [
    "# List all Entities\n",
    "# YOUR CODE HERE!"
   ]
  },
  {
   "cell_type": "markdown",
   "metadata": {},
   "source": [
    "---"
   ]
  },
  {
   "cell_type": "markdown",
   "metadata": {},
   "source": [
    "### Ethereum NER"
   ]
  },
  {
   "cell_type": "code",
   "execution_count": null,
   "metadata": {},
   "outputs": [],
   "source": [
    "# Concatenate all of the Ethereum text together\n",
    "ethereum_df['tokens'].join ' '"
   ]
  },
  {
   "cell_type": "code",
   "execution_count": null,
   "metadata": {},
   "outputs": [],
   "source": [
    "# Run the NER processor on all of the text\n",
    "doc = nlp(article)\n",
    "\n",
    "# Add a title to the document\n",
    "# YOUR CODE HERE!"
   ]
  },
  {
   "cell_type": "code",
   "execution_count": null,
   "metadata": {},
   "outputs": [],
   "source": [
    "# Render the visualization\n",
    "displacy.render(doc, style='ent')"
   ]
  },
  {
   "cell_type": "code",
   "execution_count": 45,
   "metadata": {},
   "outputs": [],
   "source": [
    "# List all Entities\n",
    "#entities = [ent.text for ent in doc.ents if ent.label_ in ['GPE', 'ORG']]"
   ]
  },
  {
   "cell_type": "markdown",
   "metadata": {},
   "source": [
    "---"
   ]
  }
 ],
 "metadata": {
  "file_extension": ".py",
  "kernelspec": {
   "display_name": "Python [conda env:dev]",
   "language": "python",
   "name": "conda-env-dev-py"
  },
  "language_info": {
   "codemirror_mode": {
    "name": "ipython",
    "version": 3
   },
   "file_extension": ".py",
   "mimetype": "text/x-python",
   "name": "python",
   "nbconvert_exporter": "python",
   "pygments_lexer": "ipython3",
   "version": "3.7.9"
  },
  "mimetype": "text/x-python",
  "name": "python",
  "npconvert_exporter": "python",
  "pygments_lexer": "ipython3",
  "version": 3
 },
 "nbformat": 4,
 "nbformat_minor": 4
}
